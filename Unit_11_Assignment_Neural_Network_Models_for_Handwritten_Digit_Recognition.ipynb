{
  "cells": [
    {
      "cell_type": "markdown",
      "metadata": {
        "id": "view-in-github",
        "colab_type": "text"
      },
      "source": [
        "<a href=\"https://colab.research.google.com/github/rosh4github/eportfolio/blob/main/Unit_11_Assignment_Neural_Network_Models_for_Handwritten_Digit_Recognition.ipynb\" target=\"_parent\"><img src=\"https://colab.research.google.com/assets/colab-badge.svg\" alt=\"Open In Colab\"/></a>"
      ]
    },
    {
      "cell_type": "markdown",
      "source": [
        "Source:\n",
        "\n",
        "University of Essex Online. (2024) *Unit 9 CNN Object Recognition.* [Jupyter notebook]. ML_PCOM7E JULY 2024 Machine Learning July 2024. University of Essex Online.\n",
        "\n",
        "University of Essex Online. (2024) *Unit 11 Development Individual Project: Presentation Resubmission Question* [Assignment Question]. ML_PCOM7E JULY 2024 Machine Learning July 2024. University of Essex Online.\n",
        "\n",
        "Gemini (2024) Gemini response to Roshni Kasturi. 4 November."
      ],
      "metadata": {
        "id": "eudcIHr6Yu5x"
      }
    },
    {
      "cell_type": "markdown",
      "metadata": {
        "id": "BqqY8EzkRbu7"
      },
      "source": [
        "# Convolutional Neural Networks (CNN) - Handwritten Digit Recognition"
      ]
    },
    {
      "cell_type": "markdown",
      "metadata": {
        "id": "ZJ0t3LhpRbu7"
      },
      "source": [
        "# Imports"
      ]
    },
    {
      "cell_type": "code",
      "execution_count": null,
      "metadata": {
        "id": "4_fA0a0aRbu7"
      },
      "outputs": [],
      "source": [
        "# Underlying libraries / functions are using random number generators internally, therefore:\n",
        "\n",
        "from numpy.random import seed\n",
        "seed(1212) # calls the imported seed function with a certain value (sets the seed for numpy's random no. generator, i.e. reproducible/repeatable as numpy will generate same sequence of random #s every time the code is run)\n",
        "\n",
        "# An open-source library for ML\n",
        "import tensorflow\n",
        "tensorflow.random.set_seed(112) # sets random seed for tensorflow's random # generator to 112 # reproducibility"
      ]
    },
    {
      "cell_type": "code",
      "execution_count": null,
      "metadata": {
        "id": "Q18-JeQfRbu8"
      },
      "outputs": [],
      "source": [
        "# Importing libraries/modules for bulding, training,  and evaluating a Convolutional Neural Network (CNN)\n",
        "\n",
        "# Essential libraries\n",
        "\n",
        "import numpy as np # \"Imports the numpy library and assigns it the alias np. NumPy is fundamental for numerical computations in Python, providing powerful array objects and mathematical functions.\" (Gemini, 2024)\n",
        "\n",
        "# pandas - for working with and analyzing data\n",
        "# organizing data in tables/df; cleaning & preparing data for analysis; performing calculations and analysis on data\n",
        "import pandas as pd\n",
        "\n",
        "\n",
        "# Deep Learning Tools\n",
        "\n",
        "import tensorflow as tf # \"Imports the tensorflow library and assigns it the alias tf. TensorFlow is a popular deep learning framework used for building and training neural networks.\" (Gemini, 2024)\n",
        "import keras # \"Imports the keras library, a high-level API for building and training neural networks. Keras often runs on top of TensorFlow.\" (Gemini, 2024)\n",
        "from keras.datasets import mnist # imports MNIST dataset from Keras' datasets\n",
        "\n",
        "\n",
        "# Importing Layers and Optimizers for the CNN\n",
        "\n",
        "from keras.models import Sequential # to define model/ layers # \"Imports the Sequential model from Keras, which allows us to create neural networks by stacking layers sequentially.\" (Gemini, 2024)\n",
        "\n",
        "# Dense: \"Represents a fully connected layer in the network.\n",
        "# Conv2D: \"Represents a 2-dimensional convolutional layer, essential for feature extraction in images.\" (Gemini, 2024)\n",
        "# MaxPool2D: \"Represents a 2-dimensional max pooling layer, used to reduce the spatial dimensions of the feature maps.\" (Gemini, 2024)\n",
        "# Flatten: \"Converts the multi-dimensional feature maps into a single vector, preparing them for the fully connected layers.\" (Gemini, 2024)\n",
        "from keras.layers import Dense, Conv2D, MaxPool2D, Flatten # \"Imports specific layer types from Keras for building the CNN:\" (Gemini, 2024)\n",
        "\n",
        "from keras import optimizers\n",
        "\n",
        "# Importing Visualization tools\n",
        "\n",
        "import matplotlib.pyplot as plt # \"Imports the matplotlib.pyplot module and assigns it the alias plt. Matplotlib is a widely used library for creating visualizations in Python.\" (Gemini, 2024)\n",
        "\n",
        "# \"This is a \"magic command\" specific to Jupyter notebooks. It ensures that plots generated by Matplotlib are displayed directly within the notebook\" (Gemini, 2024)\n",
        "%matplotlib inline\n",
        "\n",
        "\n",
        "# Importing Evaluation Tools\n",
        "\n",
        "from sklearn.metrics import confusion_matrix # \"Imports the confusion_matrix function from scikit-learn (sklearn), used to evaluate the performance of a classification model.\" (Gemini, 2024)\n",
        "\n",
        "\n",
        "# Importing tools for image display\n",
        "\n",
        "from IPython.display import display # \"Imports the display function, which is helpful for displaying images and other objects within a Jupyter notebook.\" (Gemini, 2024)\n",
        "from keras.preprocessing.image import array_to_img # \"Imports the array_to_img function, allowing us to convert image data stored as NumPy arrays into image objects.\" (Gemini, 2024)\n",
        "\n",
        "\n",
        "# Importing utility functions\n",
        "\n",
        "from tensorflow.keras.utils import to_categorical # \"Imports the to_categorical function, used to convert class labels into a one-hot encoded format suitable for training a neural network.\" (Gemini, 2024)\n",
        "\n"
      ]
    },
    {
      "cell_type": "markdown",
      "metadata": {
        "id": "0SscqsseRbu8"
      },
      "source": [
        "Tensorflow is used (one of its most popular backends) to power Keras (high-level API)\n",
        "\n",
        "- backend: underlying computational engine to perform mathematical ops in training/running a neural network (engine to a car)\n",
        "- TensorFlow as a backend - provides computational efficiency, flexibility, scalability, large community/support"
      ]
    },
    {
      "cell_type": "markdown",
      "metadata": {
        "id": "1LYw37JFRbu8"
      },
      "source": [
        "# Get the Dataset"
      ]
    },
    {
      "cell_type": "markdown",
      "metadata": {
        "id": "iyCHtnUgRbu8"
      },
      "source": [
        "**\"Key Details of the MNIST Dataset:**\n",
        "\n",
        "**Content:**\n",
        "\n",
        "The dataset contains grayscale images of handwritten digits (0 through 9), each of which is 28x28 pixels.\n",
        "\n",
        "**Volume:**\n",
        "\n",
        "There are 60,000 training images and 10,000 testing images.\n",
        "\n",
        "**Labelling:**\n",
        "\n",
        "Each image is labeled with the digit it represents.\n",
        "\n",
        "**Use Cases:**\n",
        "\n",
        "MNIST is widely used for training and testing in the field of machine learning and is considered as the \"Hello World\" dataset of computer vision.\n",
        "\n",
        "**Variations:**\n",
        "\n",
        "There are also variations of the original MNIST dataset, like Fashion-MNIST, which contains images of clothing items, and EMNIST, which extends the dataset to include letters in both uppercase and lowercase.\" (University of Essex Online, 2024).\n",
        "\n"
      ]
    },
    {
      "cell_type": "code",
      "execution_count": null,
      "metadata": {
        "id": "G_eYNoMJRbu8"
      },
      "outputs": [],
      "source": [
        "# Getting the dataset as a Tuple\n",
        "\n",
        "# mnist.load_data = function from keras.datasets module specifically designed to load the dataset; when called - dataset is downloaded and loaded into memory\n",
        "# data returned from call in a specific structure: a tuple of tuples\n",
        "# each inner tuple contains: 1. image data; 2. corresponding labels\n",
        "# below is Python's tuple unpacking feature\n",
        "\n",
        "# x_train_all - img data for training. NumPy array where each element represents an image\n",
        "# y_train_all - stores the labels for the training images. NumPy array\n",
        "# x_test - img data for testing\n",
        "# y_test - stores the labels for the testing images\n",
        "(x_train, y_train), (x_test, y_test) = mnist.load_data()"
      ]
    },
    {
      "cell_type": "markdown",
      "metadata": {
        "id": "DQkalJYvRbu8"
      },
      "source": [
        "# Constants"
      ]
    },
    {
      "cell_type": "markdown",
      "metadata": {
        "id": "AqUZc3RtRbu8"
      },
      "source": [
        "# Exploring the Data"
      ]
    },
    {
      "cell_type": "markdown",
      "metadata": {
        "id": "eBXLFtBaRbu9"
      },
      "source": [
        "Lets look at the first image in the dataset"
      ]
    },
    {
      "cell_type": "code",
      "execution_count": null,
      "metadata": {
        "colab": {
          "base_uri": "https://localhost:8080/"
        },
        "id": "hypYLAfpRbu9",
        "outputId": "9c42f4e6-338f-4cb1-cf06-48ffecafaca9"
      },
      "outputs": [
        {
          "output_type": "execute_result",
          "data": {
            "text/plain": [
              "(60000, 28, 28)"
            ]
          },
          "metadata": {},
          "execution_count": 23
        }
      ],
      "source": [
        "x_train.shape # .shape (attribute of NumPy array) results in a tuple (kind of list) w/3 outputs: 1. # of images in dataset, 2. height of each image in pixels, 3. width of each image in pixels; and sometimes - # of color channels"
      ]
    },
    {
      "cell_type": "code",
      "execution_count": null,
      "metadata": {
        "scrolled": true,
        "colab": {
          "base_uri": "https://localhost:8080/",
          "height": 66
        },
        "id": "z5XOrqShRbu9",
        "outputId": "752b892b-f937-40e7-f2aa-9b6cc7341138"
      },
      "outputs": [
        {
          "output_type": "execute_result",
          "data": {
            "text/plain": [
              "array([[  0,   0,   0,   0,   0,   0,   0,   0,   0,   0,   0,   0,   0,\n",
              "          0,   0,   0,   0,   0,   0,   0,   0,   0,   0,   0,   0,   0,\n",
              "          0,   0],\n",
              "       [  0,   0,   0,   0,   0,   0,   0,   0,   0,   0,   0,   0,   0,\n",
              "          0,   0,   0,   0,   0,   0,   0,   0,   0,   0,   0,   0,   0,\n",
              "          0,   0],\n",
              "       [  0,   0,   0,   0,   0,   0,   0,   0,   0,   0,   0,   0,   0,\n",
              "          0,   0,   0,   0,   0,   0,   0,   0,   0,   0,   0,   0,   0,\n",
              "          0,   0],\n",
              "       [  0,   0,   0,   0,   0,   0,   0,   0,   0,   0,   0,   0,   0,\n",
              "          0,   0,   0,   0,   0,   0,   0,   0,   0,   0,   0,   0,   0,\n",
              "          0,   0],\n",
              "       [  0,   0,   0,   0,   0,   0,   0,   0,   0,   0,   0,   0,   0,\n",
              "          0,   0,   0,   0,   0,   0,   0,   0,   0,   0,   0,   0,   0,\n",
              "          0,   0],\n",
              "       [  0,   0,   0,   0,   0,   0,   0,   0,   0,   0,   0,   0,   3,\n",
              "         18,  18,  18, 126, 136, 175,  26, 166, 255, 247, 127,   0,   0,\n",
              "          0,   0],\n",
              "       [  0,   0,   0,   0,   0,   0,   0,   0,  30,  36,  94, 154, 170,\n",
              "        253, 253, 253, 253, 253, 225, 172, 253, 242, 195,  64,   0,   0,\n",
              "          0,   0],\n",
              "       [  0,   0,   0,   0,   0,   0,   0,  49, 238, 253, 253, 253, 253,\n",
              "        253, 253, 253, 253, 251,  93,  82,  82,  56,  39,   0,   0,   0,\n",
              "          0,   0],\n",
              "       [  0,   0,   0,   0,   0,   0,   0,  18, 219, 253, 253, 253, 253,\n",
              "        253, 198, 182, 247, 241,   0,   0,   0,   0,   0,   0,   0,   0,\n",
              "          0,   0],\n",
              "       [  0,   0,   0,   0,   0,   0,   0,   0,  80, 156, 107, 253, 253,\n",
              "        205,  11,   0,  43, 154,   0,   0,   0,   0,   0,   0,   0,   0,\n",
              "          0,   0],\n",
              "       [  0,   0,   0,   0,   0,   0,   0,   0,   0,  14,   1, 154, 253,\n",
              "         90,   0,   0,   0,   0,   0,   0,   0,   0,   0,   0,   0,   0,\n",
              "          0,   0],\n",
              "       [  0,   0,   0,   0,   0,   0,   0,   0,   0,   0,   0, 139, 253,\n",
              "        190,   2,   0,   0,   0,   0,   0,   0,   0,   0,   0,   0,   0,\n",
              "          0,   0],\n",
              "       [  0,   0,   0,   0,   0,   0,   0,   0,   0,   0,   0,  11, 190,\n",
              "        253,  70,   0,   0,   0,   0,   0,   0,   0,   0,   0,   0,   0,\n",
              "          0,   0],\n",
              "       [  0,   0,   0,   0,   0,   0,   0,   0,   0,   0,   0,   0,  35,\n",
              "        241, 225, 160, 108,   1,   0,   0,   0,   0,   0,   0,   0,   0,\n",
              "          0,   0],\n",
              "       [  0,   0,   0,   0,   0,   0,   0,   0,   0,   0,   0,   0,   0,\n",
              "         81, 240, 253, 253, 119,  25,   0,   0,   0,   0,   0,   0,   0,\n",
              "          0,   0],\n",
              "       [  0,   0,   0,   0,   0,   0,   0,   0,   0,   0,   0,   0,   0,\n",
              "          0,  45, 186, 253, 253, 150,  27,   0,   0,   0,   0,   0,   0,\n",
              "          0,   0],\n",
              "       [  0,   0,   0,   0,   0,   0,   0,   0,   0,   0,   0,   0,   0,\n",
              "          0,   0,  16,  93, 252, 253, 187,   0,   0,   0,   0,   0,   0,\n",
              "          0,   0],\n",
              "       [  0,   0,   0,   0,   0,   0,   0,   0,   0,   0,   0,   0,   0,\n",
              "          0,   0,   0,   0, 249, 253, 249,  64,   0,   0,   0,   0,   0,\n",
              "          0,   0],\n",
              "       [  0,   0,   0,   0,   0,   0,   0,   0,   0,   0,   0,   0,   0,\n",
              "          0,  46, 130, 183, 253, 253, 207,   2,   0,   0,   0,   0,   0,\n",
              "          0,   0],\n",
              "       [  0,   0,   0,   0,   0,   0,   0,   0,   0,   0,   0,   0,  39,\n",
              "        148, 229, 253, 253, 253, 250, 182,   0,   0,   0,   0,   0,   0,\n",
              "          0,   0],\n",
              "       [  0,   0,   0,   0,   0,   0,   0,   0,   0,   0,  24, 114, 221,\n",
              "        253, 253, 253, 253, 201,  78,   0,   0,   0,   0,   0,   0,   0,\n",
              "          0,   0],\n",
              "       [  0,   0,   0,   0,   0,   0,   0,   0,  23,  66, 213, 253, 253,\n",
              "        253, 253, 198,  81,   2,   0,   0,   0,   0,   0,   0,   0,   0,\n",
              "          0,   0],\n",
              "       [  0,   0,   0,   0,   0,   0,  18, 171, 219, 253, 253, 253, 253,\n",
              "        195,  80,   9,   0,   0,   0,   0,   0,   0,   0,   0,   0,   0,\n",
              "          0,   0],\n",
              "       [  0,   0,   0,   0,  55, 172, 226, 253, 253, 253, 253, 244, 133,\n",
              "         11,   0,   0,   0,   0,   0,   0,   0,   0,   0,   0,   0,   0,\n",
              "          0,   0],\n",
              "       [  0,   0,   0,   0, 136, 253, 253, 253, 212, 135, 132,  16,   0,\n",
              "          0,   0,   0,   0,   0,   0,   0,   0,   0,   0,   0,   0,   0,\n",
              "          0,   0],\n",
              "       [  0,   0,   0,   0,   0,   0,   0,   0,   0,   0,   0,   0,   0,\n",
              "          0,   0,   0,   0,   0,   0,   0,   0,   0,   0,   0,   0,   0,\n",
              "          0,   0],\n",
              "       [  0,   0,   0,   0,   0,   0,   0,   0,   0,   0,   0,   0,   0,\n",
              "          0,   0,   0,   0,   0,   0,   0,   0,   0,   0,   0,   0,   0,\n",
              "          0,   0],\n",
              "       [  0,   0,   0,   0,   0,   0,   0,   0,   0,   0,   0,   0,   0,\n",
              "          0,   0,   0,   0,   0,   0,   0,   0,   0,   0,   0,   0,   0,\n",
              "          0,   0]], dtype=uint8)"
            ],
            "text/html": [
              "<style>\n",
              "      .ndarray_repr .ndarray_raw_data {\n",
              "        display: none;\n",
              "      }\n",
              "      .ndarray_repr.show_array .ndarray_raw_data {\n",
              "        display: block;\n",
              "      }\n",
              "      .ndarray_repr.show_array .ndarray_image_preview {\n",
              "        display: none;\n",
              "      }\n",
              "      </style>\n",
              "      <div id=\"id-e1e3ecf9-6585-480f-835f-dc0a1a1e3a73\" class=\"ndarray_repr\"><pre>ndarray (28, 28) <button style=\"padding: 0 2px;\">show data</button></pre><img src=\"data:image/png;base64,iVBORw0KGgoAAAANSUhEUgAAABwAAAAcCAAAAABXZoBIAAABAElEQVR4nGNgGMyAWUhIqK5jvdSy/9/rGRgYGFhgEnJsVjYCwQwMDAxPJgV+vniQgYGBgREqZ7iXH8r6l/SV4dn7m8gmCt3++/fv37/Htn3/iMW+gDnZf/+e5WbQnoXNNXyMs/5GoQoxwVmf/n9kSGFiwAW49/11wynJoPzx4YIcRlyygR/+/i2XxCWru+vv32nSuGQFYv/83Y3b4p9/fzpAmSyoMnohpiwM1w5h06Q+5enfv39/bcMiJVF09+/fv39P+mFKiTtd/fv3799jgZiBJLT69t+/f/8eDuDEkDJf8+jv379/v7Ryo4qzMDAwMAQGMjBc3/y35wM2V1IfAABFF16Aa0wAOwAAAABJRU5ErkJggg==\" class=\"ndarray_image_preview\" /><pre class=\"ndarray_raw_data\">array([[  0,   0,   0,   0,   0,   0,   0,   0,   0,   0,   0,   0,   0,\n",
              "          0,   0,   0,   0,   0,   0,   0,   0,   0,   0,   0,   0,   0,\n",
              "          0,   0],\n",
              "       [  0,   0,   0,   0,   0,   0,   0,   0,   0,   0,   0,   0,   0,\n",
              "          0,   0,   0,   0,   0,   0,   0,   0,   0,   0,   0,   0,   0,\n",
              "          0,   0],\n",
              "       [  0,   0,   0,   0,   0,   0,   0,   0,   0,   0,   0,   0,   0,\n",
              "          0,   0,   0,   0,   0,   0,   0,   0,   0,   0,   0,   0,   0,\n",
              "          0,   0],\n",
              "       [  0,   0,   0,   0,   0,   0,   0,   0,   0,   0,   0,   0,   0,\n",
              "          0,   0,   0,   0,   0,   0,   0,   0,   0,   0,   0,   0,   0,\n",
              "          0,   0],\n",
              "       [  0,   0,   0,   0,   0,   0,   0,   0,   0,   0,   0,   0,   0,\n",
              "          0,   0,   0,   0,   0,   0,   0,   0,   0,   0,   0,   0,   0,\n",
              "          0,   0],\n",
              "       [  0,   0,   0,   0,   0,   0,   0,   0,   0,   0,   0,   0,   3,\n",
              "         18,  18,  18, 126, 136, 175,  26, 166, 255, 247, 127,   0,   0,\n",
              "          0,   0],\n",
              "       [  0,   0,   0,   0,   0,   0,   0,   0,  30,  36,  94, 154, 170,\n",
              "        253, 253, 253, 253, 253, 225, 172, 253, 242, 195,  64,   0,   0,\n",
              "          0,   0],\n",
              "       [  0,   0,   0,   0,   0,   0,   0,  49, 238, 253, 253, 253, 253,\n",
              "        253, 253, 253, 253, 251,  93,  82,  82,  56,  39,   0,   0,   0,\n",
              "          0,   0],\n",
              "       [  0,   0,   0,   0,   0,   0,   0,  18, 219, 253, 253, 253, 253,\n",
              "        253, 198, 182, 247, 241,   0,   0,   0,   0,   0,   0,   0,   0,\n",
              "          0,   0],\n",
              "       [  0,   0,   0,   0,   0,   0,   0,   0,  80, 156, 107, 253, 253,\n",
              "        205,  11,   0,  43, 154,   0,   0,   0,   0,   0,   0,   0,   0,\n",
              "          0,   0],\n",
              "       [  0,   0,   0,   0,   0,   0,   0,   0,   0,  14,   1, 154, 253,\n",
              "         90,   0,   0,   0,   0,   0,   0,   0,   0,   0,   0,   0,   0,\n",
              "          0,   0],\n",
              "       [  0,   0,   0,   0,   0,   0,   0,   0,   0,   0,   0, 139, 253,\n",
              "        190,   2,   0,   0,   0,   0,   0,   0,   0,   0,   0,   0,   0,\n",
              "          0,   0],\n",
              "       [  0,   0,   0,   0,   0,   0,   0,   0,   0,   0,   0,  11, 190,\n",
              "        253,  70,   0,   0,   0,   0,   0,   0,   0,   0,   0,   0,   0,\n",
              "          0,   0],\n",
              "       [  0,   0,   0,   0,   0,   0,   0,   0,   0,   0,   0,   0,  35,\n",
              "        241, 225, 160, 108,   1,   0,   0,   0,   0,   0,   0,   0,   0,\n",
              "          0,   0],\n",
              "       [  0,   0,   0,   0,   0,   0,   0,   0,   0,   0,   0,   0,   0,\n",
              "         81, 240, 253, 253, 119,  25,   0,   0,   0,   0,   0,   0,   0,\n",
              "          0,   0],\n",
              "       [  0,   0,   0,   0,   0,   0,   0,   0,   0,   0,   0,   0,   0,\n",
              "          0,  45, 186, 253, 253, 150,  27,   0,   0,   0,   0,   0,   0,\n",
              "          0,   0],\n",
              "       [  0,   0,   0,   0,   0,   0,   0,   0,   0,   0,   0,   0,   0,\n",
              "          0,   0,  16,  93, 252, 253, 187,   0,   0,   0,   0,   0,   0,\n",
              "          0,   0],\n",
              "       [  0,   0,   0,   0,   0,   0,   0,   0,   0,   0,   0,   0,   0,\n",
              "          0,   0,   0,   0, 249, 253, 249,  64,   0,   0,   0,   0,   0,\n",
              "          0,   0],\n",
              "       [  0,   0,   0,   0,   0,   0,   0,   0,   0,   0,   0,   0,   0,\n",
              "          0,  46, 130, 183, 253, 253, 207,   2,   0,   0,   0,   0,   0,\n",
              "          0,   0],\n",
              "       [  0,   0,   0,   0,   0,   0,   0,   0,   0,   0,   0,   0,  39,\n",
              "        148, 229, 253, 253, 253, 250, 182,   0,   0,   0,   0,   0,   0,\n",
              "          0,   0],\n",
              "       [  0,   0,   0,   0,   0,   0,   0,   0,   0,   0,  24, 114, 221,\n",
              "        253, 253, 253, 253, 201,  78,   0,   0,   0,   0,   0,   0,   0,\n",
              "          0,   0],\n",
              "       [  0,   0,   0,   0,   0,   0,   0,   0,  23,  66, 213, 253, 253,\n",
              "        253, 253, 198,  81,   2,   0,   0,   0,   0,   0,   0,   0,   0,\n",
              "          0,   0],\n",
              "       [  0,   0,   0,   0,   0,   0,  18, 171, 219, 253, 253, 253, 253,\n",
              "        195,  80,   9,   0,   0,   0,   0,   0,   0,   0,   0,   0,   0,\n",
              "          0,   0],\n",
              "       [  0,   0,   0,   0,  55, 172, 226, 253, 253, 253, 253, 244, 133,\n",
              "         11,   0,   0,   0,   0,   0,   0,   0,   0,   0,   0,   0,   0,\n",
              "          0,   0],\n",
              "       [  0,   0,   0,   0, 136, 253, 253, 253, 212, 135, 132,  16,   0,\n",
              "          0,   0,   0,   0,   0,   0,   0,   0,   0,   0,   0,   0,   0,\n",
              "          0,   0],\n",
              "       [  0,   0,   0,   0,   0,   0,   0,   0,   0,   0,   0,   0,   0,\n",
              "          0,   0,   0,   0,   0,   0,   0,   0,   0,   0,   0,   0,   0,\n",
              "          0,   0],\n",
              "       [  0,   0,   0,   0,   0,   0,   0,   0,   0,   0,   0,   0,   0,\n",
              "          0,   0,   0,   0,   0,   0,   0,   0,   0,   0,   0,   0,   0,\n",
              "          0,   0],\n",
              "       [  0,   0,   0,   0,   0,   0,   0,   0,   0,   0,   0,   0,   0,\n",
              "          0,   0,   0,   0,   0,   0,   0,   0,   0,   0,   0,   0,   0,\n",
              "          0,   0]], dtype=uint8)</pre></div><script>\n",
              "      (() => {\n",
              "      const titles = ['show data', 'hide data'];\n",
              "      let index = 0\n",
              "      document.querySelector('#id-e1e3ecf9-6585-480f-835f-dc0a1a1e3a73 button').onclick = (e) => {\n",
              "        document.querySelector('#id-e1e3ecf9-6585-480f-835f-dc0a1a1e3a73').classList.toggle('show_array');\n",
              "        index = (++index) % 2;\n",
              "        document.querySelector('#id-e1e3ecf9-6585-480f-835f-dc0a1a1e3a73 button').textContent = titles[index];\n",
              "        e.preventDefault();\n",
              "        e.stopPropagation();\n",
              "      }\n",
              "      })();\n",
              "    </script>"
            ]
          },
          "metadata": {},
          "execution_count": 24
        }
      ],
      "source": [
        "x_train[0] # first image in dataset"
      ]
    },
    {
      "cell_type": "code",
      "execution_count": null,
      "metadata": {
        "colab": {
          "base_uri": "https://localhost:8080/"
        },
        "id": "jCci-AhhRbu9",
        "outputId": "a944cea4-36cc-4af7-a06d-711e782e01cb"
      },
      "outputs": [
        {
          "output_type": "execute_result",
          "data": {
            "text/plain": [
              "(28, 28)"
            ]
          },
          "metadata": {},
          "execution_count": 25
        }
      ],
      "source": [
        "x_train[0].shape\n",
        "# \"When we access .shape on an array, it gives us a tuple representing the dimensions of that array.\n",
        "# In the case of an image, it would typically tell us the height, width, and the number of color channels (e.g., 3 for RGB images).\" (Gemini, 2024)"
      ]
    },
    {
      "cell_type": "code",
      "source": [
        "# reshaping the images to have 3 dimensions (i.e. adding a channel dimension)\n",
        "# grayscale img, channel dimension = 1\n",
        "x_train_expanded = np.expand_dims(x_train, axis=-1)\n",
        "x_test_expanded = np.expand_dims(x_test, axis=-1)"
      ],
      "metadata": {
        "id": "pg3ihI8-xoDZ"
      },
      "execution_count": null,
      "outputs": []
    },
    {
      "cell_type": "markdown",
      "metadata": {
        "id": "7TFPuVRuRbu9"
      },
      "source": [
        "#### Using ipython to display the image"
      ]
    },
    {
      "cell_type": "code",
      "execution_count": null,
      "metadata": {
        "colab": {
          "base_uri": "https://localhost:8080/",
          "height": 45
        },
        "id": "k0LqgzAIRbu9",
        "outputId": "e896ac58-184c-44ba-a491-d11c9612a4f7"
      },
      "outputs": [
        {
          "output_type": "display_data",
          "data": {
            "text/plain": [
              "<PIL.Image.Image image mode=L size=28x28>"
            ],
            "image/png": "[encoded data removed]",
            "image/jpeg": "[encoded data removed]"
          },
          "metadata": {}
        }
      ],
      "source": [
        "# To use the ipython display to view an image\n",
        "\n",
        "# array_to_img function from keras.preprocessing.image module - converts NumPy array representing image data into a PIL (Python Imaging Library) image object for display\n",
        "pic = array_to_img(x_train_expanded[0])\n",
        "\n",
        "# display() - function from the IPython.display module - to display objects like images directly within Jupyter\n",
        "display(pic)"
      ]
    },
    {
      "cell_type": "markdown",
      "metadata": {
        "id": "kfkhZdC8Rbu9"
      },
      "source": [
        "#### Using Matplotlib to view the image"
      ]
    },
    {
      "cell_type": "code",
      "execution_count": null,
      "metadata": {
        "colab": {
          "base_uri": "https://localhost:8080/",
          "height": 447
        },
        "id": "N-NzsD9uRbu9",
        "outputId": "17891979-a7b8-4208-866f-d732ec11b724"
      },
      "outputs": [
        {
          "output_type": "execute_result",
          "data": {
            "text/plain": [
              "<matplotlib.image.AxesImage at 0x7af6a6c45e70>"
            ]
          },
          "metadata": {},
          "execution_count": 32
        },
        {
          "output_type": "display_data",
          "data": {
            "text/plain": [
              "<Figure size 640x480 with 1 Axes>"
            ],
            "image/png": "[encoded data removed]"
          },
          "metadata": {}
        }
      ],
      "source": [
        "# function designed to display data as an image\n",
        "plt.imshow(x_train_expanded[0])\n"
      ]
    },
    {
      "cell_type": "code",
      "execution_count": null,
      "metadata": {
        "colab": {
          "base_uri": "https://localhost:8080/"
        },
        "id": "7JWV9gy8Rbu9",
        "outputId": "5fc46bbd-8bc5-4381-9d2c-5aa60dfe87cd"
      },
      "outputs": [
        {
          "output_type": "execute_result",
          "data": {
            "text/plain": [
              "(60000,)"
            ]
          },
          "metadata": {},
          "execution_count": 37
        }
      ],
      "source": [
        "# To check the label\n",
        "y_train.shape"
      ]
    },
    {
      "cell_type": "code",
      "execution_count": null,
      "metadata": {
        "colab": {
          "base_uri": "https://localhost:8080/"
        },
        "id": "qj5QQ6DNRbu-",
        "outputId": "bcbcab0c-370e-49db-f376-93ddd51cc6f2"
      },
      "outputs": [
        {
          "output_type": "execute_result",
          "data": {
            "text/plain": [
              "5"
            ]
          },
          "metadata": {},
          "execution_count": 38
        }
      ],
      "source": [
        "# \"[0] selects the first image's label from the training dataset.\" (Gemini, 2024)\n",
        "# labels represent the actual digit\n",
        "\n",
        "y_train[0]"
      ]
    },
    {
      "cell_type": "code",
      "execution_count": null,
      "metadata": {
        "colab": {
          "base_uri": "https://localhost:8080/"
        },
        "id": "N8kYycOURbu-",
        "outputId": "2495841d-af3b-4ca6-a27d-0a4185daed82"
      },
      "outputs": [
        {
          "output_type": "execute_result",
          "data": {
            "text/plain": [
              "(60000, 28, 28, 1)"
            ]
          },
          "metadata": {},
          "execution_count": 40
        }
      ],
      "source": [
        "x_train_expanded.shape"
      ]
    },
    {
      "cell_type": "code",
      "execution_count": null,
      "metadata": {
        "colab": {
          "base_uri": "https://localhost:8080/"
        },
        "id": "pxkzwyaGRbu-",
        "outputId": "bbf82f8b-88e6-4360-f670-f14cc1778093"
      },
      "outputs": [
        {
          "output_type": "stream",
          "name": "stdout",
          "text": [
            "Number of images = 60000 \t| width = 28 \t| height = 28 \t| channels = 1\n"
          ]
        }
      ],
      "source": [
        "number_of_images, x, y, c = x_train_expanded.shape\n",
        "print(f'Number of images = {number_of_images} \\t| width = {x} \\t| height = {y} \\t| channels = {c}')"
      ]
    },
    {
      "cell_type": "code",
      "execution_count": null,
      "metadata": {
        "scrolled": true,
        "colab": {
          "base_uri": "https://localhost:8080/"
        },
        "id": "_DTDA86gRbu-",
        "outputId": "a5f4748c-8134-4421-f547-09dd26481913"
      },
      "outputs": [
        {
          "output_type": "execute_result",
          "data": {
            "text/plain": [
              "(10000, 28, 28, 1)"
            ]
          },
          "metadata": {},
          "execution_count": 45
        }
      ],
      "source": [
        "x_test_expanded.shape"
      ]
    },
    {
      "cell_type": "markdown",
      "metadata": {
        "id": "DeVvGJYlRbu-"
      },
      "source": [
        "# Preprocess Data"
      ]
    },
    {
      "cell_type": "markdown",
      "metadata": {
        "id": "cGWucGv9Rbu-"
      },
      "source": [
        "#### Preprocessing data so that it is easier to feed it to the neural network.\n"
      ]
    },
    {
      "cell_type": "markdown",
      "metadata": {
        "id": "qOiL2MgYRbu-"
      },
      "source": [
        "### Scaling / normalizing both train and test data\n"
      ]
    },
    {
      "cell_type": "code",
      "execution_count": null,
      "metadata": {
        "id": "TKYHYwusRbu-"
      },
      "outputs": [],
      "source": [
        "x_train_expanded = x_train_expanded.astype('float32')\n",
        "x_train_expanded = x_train_expanded / 255.0 # divides each pixel value by 255, result assigned back to the same variable"
      ]
    },
    {
      "cell_type": "code",
      "execution_count": null,
      "metadata": {
        "id": "8n0ZTL2YRbu_"
      },
      "outputs": [],
      "source": [
        "x_test_expanded = x_test_expanded.astype('float32')\n",
        "x_test_expanded =  x_test_expanded / 255.0 # Why 255? In typical images, pixel values range from 0 to 255 (0 - black; 255 - white; values in between are shades of gray or colors)"
      ]
    },
    {
      "cell_type": "code",
      "execution_count": null,
      "metadata": {
        "colab": {
          "base_uri": "https://localhost:8080/"
        },
        "id": "UWWGsmWVRbu_",
        "outputId": "7ce741d2-6039-4a21-bedd-47ffcb9ee876"
      },
      "outputs": [
        {
          "output_type": "execute_result",
          "data": {
            "text/plain": [
              "array([7, 2, 1, ..., 4, 5, 6], dtype=uint8)"
            ]
          },
          "metadata": {},
          "execution_count": 51
        }
      ],
      "source": [
        "y_test"
      ]
    },
    {
      "cell_type": "markdown",
      "metadata": {
        "id": "s1KMWbZhRbu_"
      },
      "source": [
        "### Creating categorical encoding for the \"y \" data"
      ]
    },
    {
      "cell_type": "code",
      "execution_count": null,
      "metadata": {
        "id": "3SP9VU7sRbu_"
      },
      "outputs": [],
      "source": [
        "# 10 >>> simply means we have 10 classes like we already know (creating the encoding for 10 classes)\n",
        "# one-hot encoding - a way to represent categorical data (e.g. image labels) as numerical vectors\n",
        "# Neural networks work best w numerical data, but, our labels herein are integers (0, 1, 2..) which can be interpreted to have an ordinal relationship by the network\n",
        "# ^encoding solves this - now each label converts into a one-hot encoded representation (i.e. binary vector of length 10 classes)\n",
        "\n",
        "# to_categorical >> function from Keras that performs one-hot encoding; takes original array dataset & # of classes in dataset\n",
        "y_cat_train = to_categorical(y_train,10)"
      ]
    },
    {
      "cell_type": "code",
      "execution_count": null,
      "metadata": {
        "id": "_gEESHQURbu_"
      },
      "outputs": [],
      "source": [
        "y_cat_test = to_categorical(y_test,10)"
      ]
    },
    {
      "cell_type": "code",
      "execution_count": null,
      "metadata": {
        "colab": {
          "base_uri": "https://localhost:8080/"
        },
        "id": "OtuMhLxXRbu_",
        "outputId": "80009815-afea-4de8-92e8-9adcc0c4be67"
      },
      "outputs": [
        {
          "output_type": "execute_result",
          "data": {
            "text/plain": [
              "array([[0., 0., 0., ..., 0., 0., 0.],\n",
              "       [1., 0., 0., ..., 0., 0., 0.],\n",
              "       [0., 0., 0., ..., 0., 0., 0.],\n",
              "       ...,\n",
              "       [0., 0., 0., ..., 0., 0., 0.],\n",
              "       [0., 0., 0., ..., 0., 0., 0.],\n",
              "       [0., 0., 0., ..., 0., 1., 0.]])"
            ]
          },
          "metadata": {},
          "execution_count": 55
        }
      ],
      "source": [
        "y_cat_train"
      ]
    },
    {
      "cell_type": "markdown",
      "metadata": {
        "id": "K8xUH1LDRbvA"
      },
      "source": [
        "# Creating the Validation dataset"
      ]
    },
    {
      "cell_type": "markdown",
      "metadata": {
        "id": "AOJPLUQVRbvA"
      },
      "source": [
        "For small data we usually go with:\n",
        "    * 60% for Training\n",
        "    * 20% Validation\n",
        "    * 20% Testing\n",
        "    \n",
        "Only the final selected model gets to see the testing data. This helps us to ensure that we have close to real data in real-world when the model is deployed. Only our best model gets to see our testing dataset. Because it will give us a realistic impression of how our model will do in the real world\n",
        "___\n",
        "\n",
        "However, if the dataset is enormous.:\n",
        "    * 1% for is used for validation\n",
        "    * 1% for is used for testing"
      ]
    },
    {
      "cell_type": "code",
      "execution_count": null,
      "metadata": {
        "id": "m5fUy9T9RbvA"
      },
      "outputs": [],
      "source": [
        "VALIDATION_SIZE = 12000 # i.e. 20% for validation --- dataset is seen as small data"
      ]
    },
    {
      "cell_type": "code",
      "execution_count": null,
      "metadata": {
        "colab": {
          "base_uri": "https://localhost:8080/"
        },
        "id": "-wSNv0STRbvA",
        "outputId": "bde8c70e-d975-4cf4-f516-2c274ee145bc"
      },
      "outputs": [
        {
          "output_type": "execute_result",
          "data": {
            "text/plain": [
              "(12000, 28, 28, 1)"
            ]
          },
          "metadata": {},
          "execution_count": 58
        }
      ],
      "source": [
        "# x_val - will store all validation set image data\n",
        "# slicing - takes (from the beginning up to but not including) 12000 images and assigns to x_val for validation set\n",
        "x_val = x_train_expanded[:VALIDATION_SIZE]\n",
        "\n",
        "# y_val_cat - will store one-hot encoded labels (categorical labels) for the validation set\n",
        "# first 10,000 labels\n",
        "y_val_cat = y_cat_train[:VALIDATION_SIZE]\n",
        "x_val.shape"
      ]
    },
    {
      "cell_type": "code",
      "execution_count": null,
      "metadata": {
        "colab": {
          "base_uri": "https://localhost:8080/"
        },
        "id": "qankNG63RbvA",
        "outputId": "88e640e8-f870-4d9a-b362-740193b72cb5"
      },
      "outputs": [
        {
          "output_type": "execute_result",
          "data": {
            "text/plain": [
              "array([[0., 0., 0., ..., 0., 0., 0.],\n",
              "       [0., 0., 0., ..., 0., 0., 1.],\n",
              "       [0., 0., 0., ..., 0., 0., 1.],\n",
              "       ...,\n",
              "       [0., 1., 0., ..., 0., 0., 0.],\n",
              "       [0., 1., 0., ..., 0., 0., 0.],\n",
              "       [0., 0., 0., ..., 0., 0., 0.]])"
            ]
          },
          "metadata": {},
          "execution_count": 28
        }
      ],
      "source": [
        "y_val_cat"
      ]
    },
    {
      "cell_type": "markdown",
      "metadata": {
        "id": "8boSBa_YRbvA"
      },
      "source": [
        "<b>NEXT:</b>\n",
        "* We Create two NumPy arrays x_train_final and y_train_final\n",
        "* They will contain the last 48000 values from x_train_all and y_train_all respectively"
      ]
    },
    {
      "cell_type": "code",
      "execution_count": null,
      "metadata": {
        "id": "fLDFD972RbvA"
      },
      "outputs": [],
      "source": [
        "x_train_final = x_train_expanded[VALIDATION_SIZE:] #12,000 to end\n",
        "y_cat_train_final= y_cat_train[VALIDATION_SIZE:]"
      ]
    },
    {
      "cell_type": "code",
      "execution_count": null,
      "metadata": {
        "colab": {
          "base_uri": "https://localhost:8080/"
        },
        "id": "WBssF50YRbvA",
        "outputId": "d3a70ad1-eb65-4450-e8bd-2bdda761d7cb"
      },
      "outputs": [
        {
          "output_type": "execute_result",
          "data": {
            "text/plain": [
              "(48000, 28, 28, 1)"
            ]
          },
          "metadata": {},
          "execution_count": 63
        }
      ],
      "source": [
        "x_train_final.shape"
      ]
    },
    {
      "cell_type": "code",
      "execution_count": null,
      "metadata": {
        "colab": {
          "base_uri": "https://localhost:8080/"
        },
        "id": "g3FjdwV1RbvA",
        "outputId": "7e56c3f6-29b9-42ae-9537-89e8703dacf8"
      },
      "outputs": [
        {
          "output_type": "execute_result",
          "data": {
            "text/plain": [
              "(48000, 10)"
            ]
          },
          "metadata": {},
          "execution_count": 70
        }
      ],
      "source": [
        "y_cat_train_final.shape"
      ]
    },
    {
      "cell_type": "markdown",
      "metadata": {
        "id": "lCGZivoPRbvA"
      },
      "source": [
        " ## NOTE:\n",
        " <h4>* <em>FILTERS: </em>\n",
        "    Typical values for the number of filters can be determined by the data set's complexity. So essentially the larger the images, the more variety and the more classes we're trying to classify then the more filters we should have.</h4>\n",
        "   <h4> * Most times people typically pick filter based on powers of 2, for example, 32. However, if we have more complex data like road signs etc. we should be starting with a higher filter value</h4>\n",
        "   <h4>The default STRIDE value is 1 x 1 pixel</h4>"
      ]
    },
    {
      "cell_type": "markdown",
      "metadata": {
        "id": "0sPtjYX3RbvB"
      },
      "source": [
        "# BUILDING THE MODEL"
      ]
    },
    {
      "cell_type": "code",
      "execution_count": null,
      "metadata": {
        "id": "7XrglBVdRbvB",
        "colab": {
          "base_uri": "https://localhost:8080/"
        },
        "outputId": "285e6ac3-c6f9-4e2c-d9da-c2f44b37f7c9"
      },
      "outputs": [
        {
          "output_type": "stream",
          "name": "stderr",
          "text": [
            "/usr/local/lib/python3.10/dist-packages/keras/src/layers/convolutional/base_conv.py:107: UserWarning: Do not pass an `input_shape`/`input_dim` argument to a layer. When using Sequential models, prefer using an `Input(shape)` object as the first layer in the model instead.\n",
            "  super().__init__(activity_regularizer=activity_regularizer, **kwargs)\n"
          ]
        }
      ],
      "source": [
        "# Defines and configures the CNN model\n",
        "\n",
        "# MODEL INITIALIZATION\n",
        "\n",
        "# initializes a Sequential model (i.e. a linear stack of layers, like building a tower) in Keras\n",
        "model = Sequential()\n",
        "\n",
        "# CONVOLUTIONAL LAYER (Conv2D)\n",
        "\n",
        "# model.add - to add a layer to the sequential model\n",
        "# Conv2D(...) - adds a 2D convolutional layer;\n",
        "# - filters/kernels to learn - that detect specific patters in image\n",
        "# - kernel_size - size of the filter\n",
        "# - input_shape - only needed for the first layer; tells the model the shape of input images\n",
        "# - activation - applies the Rectified Linear Unit (ReLU) activation function to the output of the convolutional layer; ReLU introduces non-linearity - crucial for CNNs to learn complex patterns\n",
        "model.add(Conv2D(filters=32, kernel_size=(3,3),input_shape=(28, 28, 1), activation='relu',))\n",
        "\n",
        "# POOLING LAYER\n",
        "\n",
        "# MaxPool2D - max pooling layer - max pooling reduces spatial dimensions of feature maps (i.e. output of the convolutional layer) - this helps reduce computation + make model more robust to small variations in the input\n",
        "# pool_size - specifies size of pooling window (2x2 px herein)\n",
        "model.add(MaxPool2D(pool_size=(2, 2)))\n",
        "\n",
        "# FLATTENING LAYER\n",
        "\n",
        "# converts multi-dimensional output of the previous layers into a single, long vector\n",
        "# ^ necessary to connect it to the fullt connected (dense) layers that follow\n",
        "model.add(Flatten())\n",
        "\n",
        "# DENSE LAYER (HIDDEN LAYER)\n",
        "# called \"dense\" because every neuron in this layer is connected to every neuron in the previous layer\n",
        "# 128 NEURONS IN DENSE HIDDEN LAYER (WE CAN CHANGE THIS NUMBER OF NEURONS)\n",
        "# adds a fully connected layer w/specified neurons\n",
        "model.add(Dense(128, activation='relu'))\n",
        "\n",
        "# DENSE LAYER (OUTPUT LAYER)\n",
        "# LAST LAYER IS THE CLASSIFIER, THUS 10 POSSIBLE CLASSES CORRESPONDING TO MNIST DATASET/ 10 (number of neurons in this layer)\n",
        "# \"activation='softmax': This sets the activation function for the output layer to 'softmax'. The softmax function converts the raw output of the neurons into probabilities. It ensures that the sum of probabilities for all classes is equal to 1, making it suitable for multi-class classification problems.\" (Gemini, 2024)\n",
        "model.add(Dense(10, activation='softmax'))\n",
        "\n",
        "# COMPILING THE MODEL\n",
        "\n",
        "# model.compile - compiles the model / configures it for the training process\n",
        "# loss = 'categorical_crossentropy' - specifies the loss function to be used during training\n",
        "# \"'Categorical cross-entropy' is a common loss function for multi-class classification problems. It measures the difference between the predicted probabilities and the true labels. The goal during training is to minimize this loss.\" (Gemini, 2024)\n",
        "# \"optimizer='adam': This sets the optimization algorithm to 'Adam'. Adam is a popular optimization algorithm that adjusts the model's weights during training to minimize the loss function.\" (Gemini, 2024)\n",
        "# \"metrics=['accuracy']: This defines the metric used to evaluate the model's performance. 'Accuracy' is a common metric that calculates the percentage of correctly classified images.\" (Gemini, 2024)\n",
        "\n",
        "model.compile(loss='categorical_crossentropy',\n",
        "              optimizer='adam',\n",
        "              metrics=['accuracy'])"
      ]
    },
    {
      "cell_type": "code",
      "execution_count": null,
      "metadata": {
        "colab": {
          "base_uri": "https://localhost:8080/",
          "height": 289
        },
        "id": "Y3Th4CQjRbvB",
        "outputId": "8dcce778-587a-4f5d-848c-168887860b73"
      },
      "outputs": [
        {
          "output_type": "display_data",
          "data": {
            "text/plain": [
              "\u001b[1mModel: \"sequential_1\"\u001b[0m\n"
            ],
            "text/html": [
              "<pre style=\"white-space:pre;overflow-x:auto;line-height:normal;font-family:Menlo,'DejaVu Sans Mono',consolas,'Courier New',monospace\"><span style=\"font-weight: bold\">Model: \"sequential_1\"</span>\n",
              "</pre>\n"
            ]
          },
          "metadata": {}
        },
        {
          "output_type": "display_data",
          "data": {
            "text/plain": [
              "┏━━━━━━━━━━━━━━━━━━━━━━━━━━━━━━━━━━━━━━┳━━━━━━━━━━━━━━━━━━━━━━━━━━━━━┳━━━━━━━━━━━━━━━━━┓\n",
              "┃\u001b[1m \u001b[0m\u001b[1mLayer (type)                        \u001b[0m\u001b[1m \u001b[0m┃\u001b[1m \u001b[0m\u001b[1mOutput Shape               \u001b[0m\u001b[1m \u001b[0m┃\u001b[1m \u001b[0m\u001b[1m        Param #\u001b[0m\u001b[1m \u001b[0m┃\n",
              "┡━━━━━━━━━━━━━━━━━━━━━━━━━━━━━━━━━━━━━━╇━━━━━━━━━━━━━━━━━━━━━━━━━━━━━╇━━━━━━━━━━━━━━━━━┩\n",
              "│ conv2d_1 (\u001b[38;5;33mConv2D\u001b[0m)                    │ (\u001b[38;5;45mNone\u001b[0m, \u001b[38;5;34m26\u001b[0m, \u001b[38;5;34m26\u001b[0m, \u001b[38;5;34m32\u001b[0m)          │             \u001b[38;5;34m320\u001b[0m │\n",
              "├──────────────────────────────────────┼─────────────────────────────┼─────────────────┤\n",
              "│ max_pooling2d_1 (\u001b[38;5;33mMaxPooling2D\u001b[0m)       │ (\u001b[38;5;45mNone\u001b[0m, \u001b[38;5;34m13\u001b[0m, \u001b[38;5;34m13\u001b[0m, \u001b[38;5;34m32\u001b[0m)          │               \u001b[38;5;34m0\u001b[0m │\n",
              "├──────────────────────────────────────┼─────────────────────────────┼─────────────────┤\n",
              "│ flatten_1 (\u001b[38;5;33mFlatten\u001b[0m)                  │ (\u001b[38;5;45mNone\u001b[0m, \u001b[38;5;34m5408\u001b[0m)                │               \u001b[38;5;34m0\u001b[0m │\n",
              "├──────────────────────────────────────┼─────────────────────────────┼─────────────────┤\n",
              "│ dense_2 (\u001b[38;5;33mDense\u001b[0m)                      │ (\u001b[38;5;45mNone\u001b[0m, \u001b[38;5;34m128\u001b[0m)                 │         \u001b[38;5;34m692,352\u001b[0m │\n",
              "├──────────────────────────────────────┼─────────────────────────────┼─────────────────┤\n",
              "│ dense_3 (\u001b[38;5;33mDense\u001b[0m)                      │ (\u001b[38;5;45mNone\u001b[0m, \u001b[38;5;34m10\u001b[0m)                  │           \u001b[38;5;34m1,290\u001b[0m │\n",
              "└──────────────────────────────────────┴─────────────────────────────┴─────────────────┘\n"
            ],
            "text/html": [
              "<pre style=\"white-space:pre;overflow-x:auto;line-height:normal;font-family:Menlo,'DejaVu Sans Mono',consolas,'Courier New',monospace\">┏━━━━━━━━━━━━━━━━━━━━━━━━━━━━━━━━━━━━━━┳━━━━━━━━━━━━━━━━━━━━━━━━━━━━━┳━━━━━━━━━━━━━━━━━┓\n",
              "┃<span style=\"font-weight: bold\"> Layer (type)                         </span>┃<span style=\"font-weight: bold\"> Output Shape                </span>┃<span style=\"font-weight: bold\">         Param # </span>┃\n",
              "┡━━━━━━━━━━━━━━━━━━━━━━━━━━━━━━━━━━━━━━╇━━━━━━━━━━━━━━━━━━━━━━━━━━━━━╇━━━━━━━━━━━━━━━━━┩\n",
              "│ conv2d_1 (<span style=\"color: #0087ff; text-decoration-color: #0087ff\">Conv2D</span>)                    │ (<span style=\"color: #00d7ff; text-decoration-color: #00d7ff\">None</span>, <span style=\"color: #00af00; text-decoration-color: #00af00\">26</span>, <span style=\"color: #00af00; text-decoration-color: #00af00\">26</span>, <span style=\"color: #00af00; text-decoration-color: #00af00\">32</span>)          │             <span style=\"color: #00af00; text-decoration-color: #00af00\">320</span> │\n",
              "├──────────────────────────────────────┼─────────────────────────────┼─────────────────┤\n",
              "│ max_pooling2d_1 (<span style=\"color: #0087ff; text-decoration-color: #0087ff\">MaxPooling2D</span>)       │ (<span style=\"color: #00d7ff; text-decoration-color: #00d7ff\">None</span>, <span style=\"color: #00af00; text-decoration-color: #00af00\">13</span>, <span style=\"color: #00af00; text-decoration-color: #00af00\">13</span>, <span style=\"color: #00af00; text-decoration-color: #00af00\">32</span>)          │               <span style=\"color: #00af00; text-decoration-color: #00af00\">0</span> │\n",
              "├──────────────────────────────────────┼─────────────────────────────┼─────────────────┤\n",
              "│ flatten_1 (<span style=\"color: #0087ff; text-decoration-color: #0087ff\">Flatten</span>)                  │ (<span style=\"color: #00d7ff; text-decoration-color: #00d7ff\">None</span>, <span style=\"color: #00af00; text-decoration-color: #00af00\">5408</span>)                │               <span style=\"color: #00af00; text-decoration-color: #00af00\">0</span> │\n",
              "├──────────────────────────────────────┼─────────────────────────────┼─────────────────┤\n",
              "│ dense_2 (<span style=\"color: #0087ff; text-decoration-color: #0087ff\">Dense</span>)                      │ (<span style=\"color: #00d7ff; text-decoration-color: #00d7ff\">None</span>, <span style=\"color: #00af00; text-decoration-color: #00af00\">128</span>)                 │         <span style=\"color: #00af00; text-decoration-color: #00af00\">692,352</span> │\n",
              "├──────────────────────────────────────┼─────────────────────────────┼─────────────────┤\n",
              "│ dense_3 (<span style=\"color: #0087ff; text-decoration-color: #0087ff\">Dense</span>)                      │ (<span style=\"color: #00d7ff; text-decoration-color: #00d7ff\">None</span>, <span style=\"color: #00af00; text-decoration-color: #00af00\">10</span>)                  │           <span style=\"color: #00af00; text-decoration-color: #00af00\">1,290</span> │\n",
              "└──────────────────────────────────────┴─────────────────────────────┴─────────────────┘\n",
              "</pre>\n"
            ]
          },
          "metadata": {}
        },
        {
          "output_type": "display_data",
          "data": {
            "text/plain": [
              "\u001b[1m Total params: \u001b[0m\u001b[38;5;34m693,962\u001b[0m (2.65 MB)\n"
            ],
            "text/html": [
              "<pre style=\"white-space:pre;overflow-x:auto;line-height:normal;font-family:Menlo,'DejaVu Sans Mono',consolas,'Courier New',monospace\"><span style=\"font-weight: bold\"> Total params: </span><span style=\"color: #00af00; text-decoration-color: #00af00\">693,962</span> (2.65 MB)\n",
              "</pre>\n"
            ]
          },
          "metadata": {}
        },
        {
          "output_type": "display_data",
          "data": {
            "text/plain": [
              "\u001b[1m Trainable params: \u001b[0m\u001b[38;5;34m693,962\u001b[0m (2.65 MB)\n"
            ],
            "text/html": [
              "<pre style=\"white-space:pre;overflow-x:auto;line-height:normal;font-family:Menlo,'DejaVu Sans Mono',consolas,'Courier New',monospace\"><span style=\"font-weight: bold\"> Trainable params: </span><span style=\"color: #00af00; text-decoration-color: #00af00\">693,962</span> (2.65 MB)\n",
              "</pre>\n"
            ]
          },
          "metadata": {}
        },
        {
          "output_type": "display_data",
          "data": {
            "text/plain": [
              "\u001b[1m Non-trainable params: \u001b[0m\u001b[38;5;34m0\u001b[0m (0.00 B)\n"
            ],
            "text/html": [
              "<pre style=\"white-space:pre;overflow-x:auto;line-height:normal;font-family:Menlo,'DejaVu Sans Mono',consolas,'Courier New',monospace\"><span style=\"font-weight: bold\"> Non-trainable params: </span><span style=\"color: #00af00; text-decoration-color: #00af00\">0</span> (0.00 B)\n",
              "</pre>\n"
            ]
          },
          "metadata": {}
        }
      ],
      "source": [
        "model.summary() #built-in method provided by Keras - displays a concise overview of the architecture of the built CNN model\n",
        "# helps identify issues in model's design before training is started\n",
        "\n",
        "# shows:\n",
        "# - layer; output shape (dimensions of output data after passing through each layer);\n",
        "# - param # (no. of trainable parameters in each layer; weights & biases that the network learns during training. Crucial for understanding the model's complexity and potential for overfitting)\n",
        "#       \"The Param # column helps assess the model's complexity. If we have a very high number of parameters, we might need to consider techniques like regularization to prevent overfitting.\" (Gemini, 2024)\n",
        "# - connected to (optional column shows the connections b/w layers, indicating the flow of data within the model)"
      ]
    },
    {
      "cell_type": "markdown",
      "source": [
        "**Understanding the Output Shape**\n",
        "\n",
        "The output shape of a Conv2D layer is determined by several factors:\n",
        "\n",
        "**Input Shape:** The shape of the data entering the layer. In our case, the input shape is (28, 28, 1).\n",
        "\n",
        "**Kernel Size:** The size of the convolutional filter. We've specified a kernel size of (3, 3), which means the filter is a 3x3 grid.\n",
        "\n",
        "**Stride:** The number of pixels the filter moves in each step during the convolution. The default stride in Keras is (1, 1).\n",
        "\n",
        "**Padding:** How the input is padded to handle the edges of the image. The default padding in Keras is 'valid', which means no padding is applied.\n",
        "\n",
        "**Filters:** The number of filters used in the layer. We've specified 32 filters.\n",
        "\n",
        "**Calculating the Output Shape**\n",
        "\n",
        "With these parameters, here's how the output shape is calculated:\n",
        "\n",
        "**Spatial Dimensions:**\n",
        "\n",
        "Without padding ('valid' padding), the output spatial dimensions are calculated as: output_size = (input_size - kernel_size + 1) / stride\n",
        "\n",
        "In our case: output_width = (28 - 3 + 1) / 1 = 26, output_height = (28 - 3 + 1) / 1 = 26\n",
        "\n",
        "This gives us an output feature map of size 26x26.\n",
        "\n",
        "**Filters:**\n",
        "\n",
        "We've specified 32 filters, which means we'll have 32 of these 26x26 feature maps.\n",
        "\n",
        "**'None' Dimension:**\n",
        "\n",
        "The None in the output shape (None, 26, 26, 32) represents the batch size. During training, we'll typically process the data in batches. Keras uses None as a placeholder to indicate that the batch size can be variable. (Gemini, 2024)"
      ],
      "metadata": {
        "id": "9DfZI95rT0XK"
      }
    },
    {
      "cell_type": "markdown",
      "metadata": {
        "id": "qosBEyqYRbvB"
      },
      "source": [
        "### Adding Early stopping"
      ]
    },
    {
      "cell_type": "code",
      "execution_count": null,
      "metadata": {
        "id": "U29oLUqZRbvB"
      },
      "outputs": [],
      "source": [
        "from tensorflow.keras.callbacks import EarlyStopping # tool that prevents overfitting (happens when a model learns the training data too well including its noise and random fluctuations)\n",
        "# so it would perform very well on the training data but poorly on unseen data\n",
        "# tool monitors a specific metric (like validation loss) during training process - if this metric stops improving for a certain # of epochs (training cycles), tool will automatically stop the training process and therefore, overfitting issue\n",
        "\n",
        "# summary - tool helps find a good balance for the model to train long enough to learn patterns in data, but not so long that it starts memorizing the training data itself"
      ]
    },
    {
      "cell_type": "code",
      "execution_count": null,
      "metadata": {
        "id": "ko28CzUBRbvB"
      },
      "outputs": [],
      "source": [
        "early_stop = EarlyStopping(monitor='val_loss',patience=2) # EarlyStopping callback from the module - in this case - to prevent overfitting\n",
        "# early_stop - creates an instance of the EarlyStopping callback assigned to early_stop variable\n",
        "# monitor='val_loss' - tells EarlyStopping to monitor validation loss (measure of how well the data is performing on a separate dataset - validation set - that it is not directly trained on) - good indicator of how well the model generalizes to new, unseen data\n",
        "# patience = 2 - patience level - no. of consecutive epochs the callback will wait for improvement in the monitored metric before stopping the training process"
      ]
    },
    {
      "cell_type": "code",
      "execution_count": null,
      "metadata": {
        "colab": {
          "base_uri": "https://localhost:8080/"
        },
        "id": "sS3xQBaiRbvB",
        "outputId": "c3b13aea-1989-49e6-df89-b8c863d3205b"
      },
      "outputs": [
        {
          "output_type": "stream",
          "name": "stdout",
          "text": [
            "Epoch 1/20\n",
            "\u001b[1m1500/1500\u001b[0m \u001b[32m━━━━━━━━━━━━━━━━━━━━\u001b[0m\u001b[37m\u001b[0m \u001b[1m39s\u001b[0m 25ms/step - accuracy: 0.5824 - loss: 1.3469 - val_accuracy: 0.8917 - val_loss: 0.3616\n",
            "Epoch 2/20\n",
            "\u001b[1m1500/1500\u001b[0m \u001b[32m━━━━━━━━━━━━━━━━━━━━\u001b[0m\u001b[37m\u001b[0m \u001b[1m40s\u001b[0m 24ms/step - accuracy: 0.8984 - loss: 0.3433 - val_accuracy: 0.9108 - val_loss: 0.3008\n",
            "Epoch 3/20\n",
            "\u001b[1m1500/1500\u001b[0m \u001b[32m━━━━━━━━━━━━━━━━━━━━\u001b[0m\u001b[37m\u001b[0m \u001b[1m42s\u001b[0m 25ms/step - accuracy: 0.9136 - loss: 0.2869 - val_accuracy: 0.9247 - val_loss: 0.2595\n",
            "Epoch 4/20\n",
            "\u001b[1m1500/1500\u001b[0m \u001b[32m━━━━━━━━━━━━━━━━━━━━\u001b[0m\u001b[37m\u001b[0m \u001b[1m46s\u001b[0m 29ms/step - accuracy: 0.9274 - loss: 0.2443 - val_accuracy: 0.9337 - val_loss: 0.2240\n",
            "Epoch 5/20\n",
            "\u001b[1m1500/1500\u001b[0m \u001b[32m━━━━━━━━━━━━━━━━━━━━\u001b[0m\u001b[37m\u001b[0m \u001b[1m76s\u001b[0m 24ms/step - accuracy: 0.9382 - loss: 0.2092 - val_accuracy: 0.9422 - val_loss: 0.1959\n",
            "Epoch 6/20\n",
            "\u001b[1m1500/1500\u001b[0m \u001b[32m━━━━━━━━━━━━━━━━━━━━\u001b[0m\u001b[37m\u001b[0m \u001b[1m45s\u001b[0m 27ms/step - accuracy: 0.9455 - loss: 0.1828 - val_accuracy: 0.9476 - val_loss: 0.1756\n",
            "Epoch 7/20\n",
            "\u001b[1m1500/1500\u001b[0m \u001b[32m━━━━━━━━━━━━━━━━━━━━\u001b[0m\u001b[37m\u001b[0m \u001b[1m41s\u001b[0m 27ms/step - accuracy: 0.9511 - loss: 0.1627 - val_accuracy: 0.9503 - val_loss: 0.1611\n",
            "Epoch 8/20\n",
            "\u001b[1m1500/1500\u001b[0m \u001b[32m━━━━━━━━━━━━━━━━━━━━\u001b[0m\u001b[37m\u001b[0m \u001b[1m32s\u001b[0m 21ms/step - accuracy: 0.9555 - loss: 0.1466 - val_accuracy: 0.9539 - val_loss: 0.1513\n",
            "Epoch 9/20\n",
            "\u001b[1m1500/1500\u001b[0m \u001b[32m━━━━━━━━━━━━━━━━━━━━\u001b[0m\u001b[37m\u001b[0m \u001b[1m42s\u001b[0m 21ms/step - accuracy: 0.9602 - loss: 0.1336 - val_accuracy: 0.9571 - val_loss: 0.1401\n",
            "Epoch 10/20\n",
            "\u001b[1m1500/1500\u001b[0m \u001b[32m━━━━━━━━━━━━━━━━━━━━\u001b[0m\u001b[37m\u001b[0m \u001b[1m36s\u001b[0m 24ms/step - accuracy: 0.9640 - loss: 0.1226 - val_accuracy: 0.9602 - val_loss: 0.1323\n",
            "Epoch 11/20\n",
            "\u001b[1m1500/1500\u001b[0m \u001b[32m━━━━━━━━━━━━━━━━━━━━\u001b[0m\u001b[37m\u001b[0m \u001b[1m39s\u001b[0m 22ms/step - accuracy: 0.9669 - loss: 0.1139 - val_accuracy: 0.9622 - val_loss: 0.1262\n",
            "Epoch 12/20\n",
            "\u001b[1m1500/1500\u001b[0m \u001b[32m━━━━━━━━━━━━━━━━━━━━\u001b[0m\u001b[37m\u001b[0m \u001b[1m43s\u001b[0m 23ms/step - accuracy: 0.9691 - loss: 0.1058 - val_accuracy: 0.9632 - val_loss: 0.1212\n",
            "Epoch 13/20\n",
            "\u001b[1m1500/1500\u001b[0m \u001b[32m━━━━━━━━━━━━━━━━━━━━\u001b[0m\u001b[37m\u001b[0m \u001b[1m39s\u001b[0m 22ms/step - accuracy: 0.9704 - loss: 0.0992 - val_accuracy: 0.9632 - val_loss: 0.1172\n",
            "Epoch 14/20\n",
            "\u001b[1m1500/1500\u001b[0m \u001b[32m━━━━━━━━━━━━━━━━━━━━\u001b[0m\u001b[37m\u001b[0m \u001b[1m32s\u001b[0m 21ms/step - accuracy: 0.9724 - loss: 0.0931 - val_accuracy: 0.9646 - val_loss: 0.1131\n",
            "Epoch 15/20\n",
            "\u001b[1m1500/1500\u001b[0m \u001b[32m━━━━━━━━━━━━━━━━━━━━\u001b[0m\u001b[37m\u001b[0m \u001b[1m32s\u001b[0m 22ms/step - accuracy: 0.9743 - loss: 0.0872 - val_accuracy: 0.9663 - val_loss: 0.1084\n",
            "Epoch 16/20\n",
            "\u001b[1m1500/1500\u001b[0m \u001b[32m━━━━━━━━━━━━━━━━━━━━\u001b[0m\u001b[37m\u001b[0m \u001b[1m41s\u001b[0m 21ms/step - accuracy: 0.9758 - loss: 0.0824 - val_accuracy: 0.9664 - val_loss: 0.1075\n",
            "Epoch 17/20\n",
            "\u001b[1m1500/1500\u001b[0m \u001b[32m━━━━━━━━━━━━━━━━━━━━\u001b[0m\u001b[37m\u001b[0m \u001b[1m44s\u001b[0m 24ms/step - accuracy: 0.9771 - loss: 0.0779 - val_accuracy: 0.9675 - val_loss: 0.1046\n",
            "Epoch 18/20\n",
            "\u001b[1m1500/1500\u001b[0m \u001b[32m━━━━━━━━━━━━━━━━━━━━\u001b[0m\u001b[37m\u001b[0m \u001b[1m38s\u001b[0m 22ms/step - accuracy: 0.9781 - loss: 0.0740 - val_accuracy: 0.9682 - val_loss: 0.1017\n",
            "Epoch 19/20\n",
            "\u001b[1m1500/1500\u001b[0m \u001b[32m━━━━━━━━━━━━━━━━━━━━\u001b[0m\u001b[37m\u001b[0m \u001b[1m32s\u001b[0m 21ms/step - accuracy: 0.9791 - loss: 0.0702 - val_accuracy: 0.9686 - val_loss: 0.1011\n",
            "Epoch 20/20\n",
            "\u001b[1m1500/1500\u001b[0m \u001b[32m━━━━━━━━━━━━━━━━━━━━\u001b[0m\u001b[37m\u001b[0m \u001b[1m41s\u001b[0m 21ms/step - accuracy: 0.9801 - loss: 0.0668 - val_accuracy: 0.9668 - val_loss: 0.1026\n"
          ]
        }
      ],
      "source": [
        "# Initiation of the training process\n",
        "\n",
        "# results of the training process assigned to var. history (to contain loss an accuracy over each epoch)\n",
        "history = model.fit(x_train_final,y_cat_train_final,epochs=20,batch_size=32,validation_data=(x_val,y_val_cat),callbacks=[early_stop])\n",
        "\n",
        "# output - training process stopped at epoch 7/25 due to val_loss not decreasing for 2 consecutive rounds after epoch 5"
      ]
    },
    {
      "cell_type": "code",
      "execution_count": null,
      "metadata": {
        "colab": {
          "base_uri": "https://localhost:8080/"
        },
        "id": "RlMfzYUeRbvB",
        "outputId": "59829b3c-4c75-4886-faf4-38744dead394"
      },
      "outputs": [
        {
          "output_type": "execute_result",
          "data": {
            "text/plain": [
              "dict_keys(['accuracy', 'loss', 'val_accuracy', 'val_loss'])"
            ]
          },
          "metadata": {},
          "execution_count": 82
        }
      ],
      "source": [
        "model.history.history.keys() # asking for the names of the columns in the above 'table'\n",
        "\n",
        "# \"This line is used after training a Keras model to get a list of the metrics that were tracked during training. Here's a step-by-step explanation:\n",
        "# - model: This refers to our trained Keras model object. It contains information about the model's architecture, weights, and training history.\n",
        "# - history: This is an attribute of the model object that stores the training history. It's a dictionary-like object.\n",
        "# - history: This is accessing the actual data within the history object. It contains the recorded values of the metrics over epochs.\n",
        "# - keys(): This is a method applied to a dictionary (or dictionary-like object) that returns a list of all the keys (names of the metrics).\" (Gemini, 2024)\n"
      ]
    },
    {
      "cell_type": "code",
      "execution_count": null,
      "metadata": {
        "id": "YtUUf1MJRbvB"
      },
      "outputs": [],
      "source": [
        "# \"passing model.history.history to this function, we're telling Pandas to create a DataFrame where the keys of the model.history.history dictionary become column names, and the corresponding values (the metric values at each epoch) become the data within those columns\" (Gemini, 2024)\n",
        "metrics = pd.DataFrame(model.history.history)\n"
      ]
    },
    {
      "cell_type": "code",
      "execution_count": null,
      "metadata": {
        "colab": {
          "base_uri": "https://localhost:8080/",
          "height": 669
        },
        "id": "KKtxh944RbvB",
        "outputId": "f3c85f26-0c18-4215-db3c-d4e73029f68f"
      },
      "outputs": [
        {
          "output_type": "execute_result",
          "data": {
            "text/plain": [
              "    accuracy      loss  val_accuracy  val_loss\n",
              "0   0.770312  0.793954      0.891750  0.361562\n",
              "1   0.902125  0.331211      0.910833  0.300770\n",
              "2   0.916812  0.279053      0.924750  0.259498\n",
              "3   0.930083  0.236366      0.933750  0.223968\n",
              "4   0.940646  0.202304      0.942167  0.195897\n",
              "5   0.947625  0.177079      0.947583  0.175648\n",
              "6   0.953542  0.157611      0.950250  0.161143\n",
              "7   0.957625  0.142251      0.953917  0.151264\n",
              "8   0.961583  0.129736      0.957083  0.140068\n",
              "9   0.964417  0.119490      0.960167  0.132272\n",
              "10  0.966875  0.111036      0.962167  0.126163\n",
              "11  0.968958  0.103625      0.963167  0.121224\n",
              "12  0.970625  0.097234      0.963250  0.117158\n",
              "13  0.972208  0.091740      0.964583  0.113103\n",
              "14  0.974229  0.085856      0.966333  0.108383\n",
              "15  0.975750  0.081285      0.966417  0.107538\n",
              "16  0.977021  0.076981      0.967500  0.104611\n",
              "17  0.977979  0.073161      0.968167  0.101700\n",
              "18  0.979208  0.069543      0.968583  0.101104\n",
              "19  0.980396  0.066146      0.966750  0.102611"
            ],
            "text/html": [
              "\n",
              "  <div id=\"df-639a2475-ec6c-4951-a539-b3f450880ae1\" class=\"colab-df-container\">\n",
              "    <div>\n",
              "<style scoped>\n",
              "    .dataframe tbody tr th:only-of-type {\n",
              "        vertical-align: middle;\n",
              "    }\n",
              "\n",
              "    .dataframe tbody tr th {\n",
              "        vertical-align: top;\n",
              "    }\n",
              "\n",
              "    .dataframe thead th {\n",
              "        text-align: right;\n",
              "    }\n",
              "</style>\n",
              "<table border=\"1\" class=\"dataframe\">\n",
              "  <thead>\n",
              "    <tr style=\"text-align: right;\">\n",
              "      <th></th>\n",
              "      <th>accuracy</th>\n",
              "      <th>loss</th>\n",
              "      <th>val_accuracy</th>\n",
              "      <th>val_loss</th>\n",
              "    </tr>\n",
              "  </thead>\n",
              "  <tbody>\n",
              "    <tr>\n",
              "      <th>0</th>\n",
              "      <td>0.770312</td>\n",
              "      <td>0.793954</td>\n",
              "      <td>0.891750</td>\n",
              "      <td>0.361562</td>\n",
              "    </tr>\n",
              "    <tr>\n",
              "      <th>1</th>\n",
              "      <td>0.902125</td>\n",
              "      <td>0.331211</td>\n",
              "      <td>0.910833</td>\n",
              "      <td>0.300770</td>\n",
              "    </tr>\n",
              "    <tr>\n",
              "      <th>2</th>\n",
              "      <td>0.916812</td>\n",
              "      <td>0.279053</td>\n",
              "      <td>0.924750</td>\n",
              "      <td>0.259498</td>\n",
              "    </tr>\n",
              "    <tr>\n",
              "      <th>3</th>\n",
              "      <td>0.930083</td>\n",
              "      <td>0.236366</td>\n",
              "      <td>0.933750</td>\n",
              "      <td>0.223968</td>\n",
              "    </tr>\n",
              "    <tr>\n",
              "      <th>4</th>\n",
              "      <td>0.940646</td>\n",
              "      <td>0.202304</td>\n",
              "      <td>0.942167</td>\n",
              "      <td>0.195897</td>\n",
              "    </tr>\n",
              "    <tr>\n",
              "      <th>5</th>\n",
              "      <td>0.947625</td>\n",
              "      <td>0.177079</td>\n",
              "      <td>0.947583</td>\n",
              "      <td>0.175648</td>\n",
              "    </tr>\n",
              "    <tr>\n",
              "      <th>6</th>\n",
              "      <td>0.953542</td>\n",
              "      <td>0.157611</td>\n",
              "      <td>0.950250</td>\n",
              "      <td>0.161143</td>\n",
              "    </tr>\n",
              "    <tr>\n",
              "      <th>7</th>\n",
              "      <td>0.957625</td>\n",
              "      <td>0.142251</td>\n",
              "      <td>0.953917</td>\n",
              "      <td>0.151264</td>\n",
              "    </tr>\n",
              "    <tr>\n",
              "      <th>8</th>\n",
              "      <td>0.961583</td>\n",
              "      <td>0.129736</td>\n",
              "      <td>0.957083</td>\n",
              "      <td>0.140068</td>\n",
              "    </tr>\n",
              "    <tr>\n",
              "      <th>9</th>\n",
              "      <td>0.964417</td>\n",
              "      <td>0.119490</td>\n",
              "      <td>0.960167</td>\n",
              "      <td>0.132272</td>\n",
              "    </tr>\n",
              "    <tr>\n",
              "      <th>10</th>\n",
              "      <td>0.966875</td>\n",
              "      <td>0.111036</td>\n",
              "      <td>0.962167</td>\n",
              "      <td>0.126163</td>\n",
              "    </tr>\n",
              "    <tr>\n",
              "      <th>11</th>\n",
              "      <td>0.968958</td>\n",
              "      <td>0.103625</td>\n",
              "      <td>0.963167</td>\n",
              "      <td>0.121224</td>\n",
              "    </tr>\n",
              "    <tr>\n",
              "      <th>12</th>\n",
              "      <td>0.970625</td>\n",
              "      <td>0.097234</td>\n",
              "      <td>0.963250</td>\n",
              "      <td>0.117158</td>\n",
              "    </tr>\n",
              "    <tr>\n",
              "      <th>13</th>\n",
              "      <td>0.972208</td>\n",
              "      <td>0.091740</td>\n",
              "      <td>0.964583</td>\n",
              "      <td>0.113103</td>\n",
              "    </tr>\n",
              "    <tr>\n",
              "      <th>14</th>\n",
              "      <td>0.974229</td>\n",
              "      <td>0.085856</td>\n",
              "      <td>0.966333</td>\n",
              "      <td>0.108383</td>\n",
              "    </tr>\n",
              "    <tr>\n",
              "      <th>15</th>\n",
              "      <td>0.975750</td>\n",
              "      <td>0.081285</td>\n",
              "      <td>0.966417</td>\n",
              "      <td>0.107538</td>\n",
              "    </tr>\n",
              "    <tr>\n",
              "      <th>16</th>\n",
              "      <td>0.977021</td>\n",
              "      <td>0.076981</td>\n",
              "      <td>0.967500</td>\n",
              "      <td>0.104611</td>\n",
              "    </tr>\n",
              "    <tr>\n",
              "      <th>17</th>\n",
              "      <td>0.977979</td>\n",
              "      <td>0.073161</td>\n",
              "      <td>0.968167</td>\n",
              "      <td>0.101700</td>\n",
              "    </tr>\n",
              "    <tr>\n",
              "      <th>18</th>\n",
              "      <td>0.979208</td>\n",
              "      <td>0.069543</td>\n",
              "      <td>0.968583</td>\n",
              "      <td>0.101104</td>\n",
              "    </tr>\n",
              "    <tr>\n",
              "      <th>19</th>\n",
              "      <td>0.980396</td>\n",
              "      <td>0.066146</td>\n",
              "      <td>0.966750</td>\n",
              "      <td>0.102611</td>\n",
              "    </tr>\n",
              "  </tbody>\n",
              "</table>\n",
              "</div>\n",
              "    <div class=\"colab-df-buttons\">\n",
              "\n",
              "  <div class=\"colab-df-container\">\n",
              "    <button class=\"colab-df-convert\" onclick=\"convertToInteractive('df-639a2475-ec6c-4951-a539-b3f450880ae1')\"\n",
              "            title=\"Convert this dataframe to an interactive table.\"\n",
              "            style=\"display:none;\">\n",
              "\n",
              "  <svg xmlns=\"http://www.w3.org/2000/svg\" height=\"24px\" viewBox=\"0 -960 960 960\">\n",
              "    <path d=\"M120-120v-720h720v720H120Zm60-500h600v-160H180v160Zm220 220h160v-160H400v160Zm0 220h160v-160H400v160ZM180-400h160v-160H180v160Zm440 0h160v-160H620v160ZM180-180h160v-160H180v160Zm440 0h160v-160H620v160Z\"/>\n",
              "  </svg>\n",
              "    </button>\n",
              "\n",
              "  <style>\n",
              "    .colab-df-container {\n",
              "      display:flex;\n",
              "      gap: 12px;\n",
              "    }\n",
              "\n",
              "    .colab-df-convert {\n",
              "      background-color: #E8F0FE;\n",
              "      border: none;\n",
              "      border-radius: 50%;\n",
              "      cursor: pointer;\n",
              "      display: none;\n",
              "      fill: #1967D2;\n",
              "      height: 32px;\n",
              "      padding: 0 0 0 0;\n",
              "      width: 32px;\n",
              "    }\n",
              "\n",
              "    .colab-df-convert:hover {\n",
              "      background-color: #E2EBFA;\n",
              "      box-shadow: 0px 1px 2px rgba(60, 64, 67, 0.3), 0px 1px 3px 1px rgba(60, 64, 67, 0.15);\n",
              "      fill: #174EA6;\n",
              "    }\n",
              "\n",
              "    .colab-df-buttons div {\n",
              "      margin-bottom: 4px;\n",
              "    }\n",
              "\n",
              "    [theme=dark] .colab-df-convert {\n",
              "      background-color: #3B4455;\n",
              "      fill: #D2E3FC;\n",
              "    }\n",
              "\n",
              "    [theme=dark] .colab-df-convert:hover {\n",
              "      background-color: #434B5C;\n",
              "      box-shadow: 0px 1px 3px 1px rgba(0, 0, 0, 0.15);\n",
              "      filter: drop-shadow(0px 1px 2px rgba(0, 0, 0, 0.3));\n",
              "      fill: #FFFFFF;\n",
              "    }\n",
              "  </style>\n",
              "\n",
              "    <script>\n",
              "      const buttonEl =\n",
              "        document.querySelector('#df-639a2475-ec6c-4951-a539-b3f450880ae1 button.colab-df-convert');\n",
              "      buttonEl.style.display =\n",
              "        google.colab.kernel.accessAllowed ? 'block' : 'none';\n",
              "\n",
              "      async function convertToInteractive(key) {\n",
              "        const element = document.querySelector('#df-639a2475-ec6c-4951-a539-b3f450880ae1');\n",
              "        const dataTable =\n",
              "          await google.colab.kernel.invokeFunction('convertToInteractive',\n",
              "                                                    [key], {});\n",
              "        if (!dataTable) return;\n",
              "\n",
              "        const docLinkHtml = 'Like what you see? Visit the ' +\n",
              "          '<a target=\"_blank\" href=https://colab.research.google.com/notebooks/data_table.ipynb>data table notebook</a>'\n",
              "          + ' to learn more about interactive tables.';\n",
              "        element.innerHTML = '';\n",
              "        dataTable['output_type'] = 'display_data';\n",
              "        await google.colab.output.renderOutput(dataTable, element);\n",
              "        const docLink = document.createElement('div');\n",
              "        docLink.innerHTML = docLinkHtml;\n",
              "        element.appendChild(docLink);\n",
              "      }\n",
              "    </script>\n",
              "  </div>\n",
              "\n",
              "\n",
              "<div id=\"df-b02a3bf0-a1d5-4ff5-8b59-a6d9b9fb22bb\">\n",
              "  <button class=\"colab-df-quickchart\" onclick=\"quickchart('df-b02a3bf0-a1d5-4ff5-8b59-a6d9b9fb22bb')\"\n",
              "            title=\"Suggest charts\"\n",
              "            style=\"display:none;\">\n",
              "\n",
              "<svg xmlns=\"http://www.w3.org/2000/svg\" height=\"24px\"viewBox=\"0 0 24 24\"\n",
              "     width=\"24px\">\n",
              "    <g>\n",
              "        <path d=\"M19 3H5c-1.1 0-2 .9-2 2v14c0 1.1.9 2 2 2h14c1.1 0 2-.9 2-2V5c0-1.1-.9-2-2-2zM9 17H7v-7h2v7zm4 0h-2V7h2v10zm4 0h-2v-4h2v4z\"/>\n",
              "    </g>\n",
              "</svg>\n",
              "  </button>\n",
              "\n",
              "<style>\n",
              "  .colab-df-quickchart {\n",
              "      --bg-color: #E8F0FE;\n",
              "      --fill-color: #1967D2;\n",
              "      --hover-bg-color: #E2EBFA;\n",
              "      --hover-fill-color: #174EA6;\n",
              "      --disabled-fill-color: #AAA;\n",
              "      --disabled-bg-color: #DDD;\n",
              "  }\n",
              "\n",
              "  [theme=dark] .colab-df-quickchart {\n",
              "      --bg-color: #3B4455;\n",
              "      --fill-color: #D2E3FC;\n",
              "      --hover-bg-color: #434B5C;\n",
              "      --hover-fill-color: #FFFFFF;\n",
              "      --disabled-bg-color: #3B4455;\n",
              "      --disabled-fill-color: #666;\n",
              "  }\n",
              "\n",
              "  .colab-df-quickchart {\n",
              "    background-color: var(--bg-color);\n",
              "    border: none;\n",
              "    border-radius: 50%;\n",
              "    cursor: pointer;\n",
              "    display: none;\n",
              "    fill: var(--fill-color);\n",
              "    height: 32px;\n",
              "    padding: 0;\n",
              "    width: 32px;\n",
              "  }\n",
              "\n",
              "  .colab-df-quickchart:hover {\n",
              "    background-color: var(--hover-bg-color);\n",
              "    box-shadow: 0 1px 2px rgba(60, 64, 67, 0.3), 0 1px 3px 1px rgba(60, 64, 67, 0.15);\n",
              "    fill: var(--button-hover-fill-color);\n",
              "  }\n",
              "\n",
              "  .colab-df-quickchart-complete:disabled,\n",
              "  .colab-df-quickchart-complete:disabled:hover {\n",
              "    background-color: var(--disabled-bg-color);\n",
              "    fill: var(--disabled-fill-color);\n",
              "    box-shadow: none;\n",
              "  }\n",
              "\n",
              "  .colab-df-spinner {\n",
              "    border: 2px solid var(--fill-color);\n",
              "    border-color: transparent;\n",
              "    border-bottom-color: var(--fill-color);\n",
              "    animation:\n",
              "      spin 1s steps(1) infinite;\n",
              "  }\n",
              "\n",
              "  @keyframes spin {\n",
              "    0% {\n",
              "      border-color: transparent;\n",
              "      border-bottom-color: var(--fill-color);\n",
              "      border-left-color: var(--fill-color);\n",
              "    }\n",
              "    20% {\n",
              "      border-color: transparent;\n",
              "      border-left-color: var(--fill-color);\n",
              "      border-top-color: var(--fill-color);\n",
              "    }\n",
              "    30% {\n",
              "      border-color: transparent;\n",
              "      border-left-color: var(--fill-color);\n",
              "      border-top-color: var(--fill-color);\n",
              "      border-right-color: var(--fill-color);\n",
              "    }\n",
              "    40% {\n",
              "      border-color: transparent;\n",
              "      border-right-color: var(--fill-color);\n",
              "      border-top-color: var(--fill-color);\n",
              "    }\n",
              "    60% {\n",
              "      border-color: transparent;\n",
              "      border-right-color: var(--fill-color);\n",
              "    }\n",
              "    80% {\n",
              "      border-color: transparent;\n",
              "      border-right-color: var(--fill-color);\n",
              "      border-bottom-color: var(--fill-color);\n",
              "    }\n",
              "    90% {\n",
              "      border-color: transparent;\n",
              "      border-bottom-color: var(--fill-color);\n",
              "    }\n",
              "  }\n",
              "</style>\n",
              "\n",
              "  <script>\n",
              "    async function quickchart(key) {\n",
              "      const quickchartButtonEl =\n",
              "        document.querySelector('#' + key + ' button');\n",
              "      quickchartButtonEl.disabled = true;  // To prevent multiple clicks.\n",
              "      quickchartButtonEl.classList.add('colab-df-spinner');\n",
              "      try {\n",
              "        const charts = await google.colab.kernel.invokeFunction(\n",
              "            'suggestCharts', [key], {});\n",
              "      } catch (error) {\n",
              "        console.error('Error during call to suggestCharts:', error);\n",
              "      }\n",
              "      quickchartButtonEl.classList.remove('colab-df-spinner');\n",
              "      quickchartButtonEl.classList.add('colab-df-quickchart-complete');\n",
              "    }\n",
              "    (() => {\n",
              "      let quickchartButtonEl =\n",
              "        document.querySelector('#df-b02a3bf0-a1d5-4ff5-8b59-a6d9b9fb22bb button');\n",
              "      quickchartButtonEl.style.display =\n",
              "        google.colab.kernel.accessAllowed ? 'block' : 'none';\n",
              "    })();\n",
              "  </script>\n",
              "</div>\n",
              "\n",
              "  <div id=\"id_3e4009d8-5131-45bb-b392-64911f4b7b20\">\n",
              "    <style>\n",
              "      .colab-df-generate {\n",
              "        background-color: #E8F0FE;\n",
              "        border: none;\n",
              "        border-radius: 50%;\n",
              "        cursor: pointer;\n",
              "        display: none;\n",
              "        fill: #1967D2;\n",
              "        height: 32px;\n",
              "        padding: 0 0 0 0;\n",
              "        width: 32px;\n",
              "      }\n",
              "\n",
              "      .colab-df-generate:hover {\n",
              "        background-color: #E2EBFA;\n",
              "        box-shadow: 0px 1px 2px rgba(60, 64, 67, 0.3), 0px 1px 3px 1px rgba(60, 64, 67, 0.15);\n",
              "        fill: #174EA6;\n",
              "      }\n",
              "\n",
              "      [theme=dark] .colab-df-generate {\n",
              "        background-color: #3B4455;\n",
              "        fill: #D2E3FC;\n",
              "      }\n",
              "\n",
              "      [theme=dark] .colab-df-generate:hover {\n",
              "        background-color: #434B5C;\n",
              "        box-shadow: 0px 1px 3px 1px rgba(0, 0, 0, 0.15);\n",
              "        filter: drop-shadow(0px 1px 2px rgba(0, 0, 0, 0.3));\n",
              "        fill: #FFFFFF;\n",
              "      }\n",
              "    </style>\n",
              "    <button class=\"colab-df-generate\" onclick=\"generateWithVariable('metrics')\"\n",
              "            title=\"Generate code using this dataframe.\"\n",
              "            style=\"display:none;\">\n",
              "\n",
              "  <svg xmlns=\"http://www.w3.org/2000/svg\" height=\"24px\"viewBox=\"0 0 24 24\"\n",
              "       width=\"24px\">\n",
              "    <path d=\"M7,19H8.4L18.45,9,17,7.55,7,17.6ZM5,21V16.75L18.45,3.32a2,2,0,0,1,2.83,0l1.4,1.43a1.91,1.91,0,0,1,.58,1.4,1.91,1.91,0,0,1-.58,1.4L9.25,21ZM18.45,9,17,7.55Zm-12,3A5.31,5.31,0,0,0,4.9,8.1,5.31,5.31,0,0,0,1,6.5,5.31,5.31,0,0,0,4.9,4.9,5.31,5.31,0,0,0,6.5,1,5.31,5.31,0,0,0,8.1,4.9,5.31,5.31,0,0,0,12,6.5,5.46,5.46,0,0,0,6.5,12Z\"/>\n",
              "  </svg>\n",
              "    </button>\n",
              "    <script>\n",
              "      (() => {\n",
              "      const buttonEl =\n",
              "        document.querySelector('#id_3e4009d8-5131-45bb-b392-64911f4b7b20 button.colab-df-generate');\n",
              "      buttonEl.style.display =\n",
              "        google.colab.kernel.accessAllowed ? 'block' : 'none';\n",
              "\n",
              "      buttonEl.onclick = () => {\n",
              "        google.colab.notebook.generateWithVariable('metrics');\n",
              "      }\n",
              "      })();\n",
              "    </script>\n",
              "  </div>\n",
              "\n",
              "    </div>\n",
              "  </div>\n"
            ],
            "application/vnd.google.colaboratory.intrinsic+json": {
              "type": "dataframe",
              "variable_name": "metrics",
              "summary": "{\n  \"name\": \"metrics\",\n  \"rows\": 20,\n  \"fields\": [\n    {\n      \"column\": \"accuracy\",\n      \"properties\": {\n        \"dtype\": \"number\",\n        \"std\": 0.047394905081623806,\n        \"min\": 0.770312488079071,\n        \"max\": 0.9803958535194397,\n        \"num_unique_values\": 20,\n        \"samples\": [\n          0.770312488079071,\n          0.9779791831970215,\n          0.9757500290870667\n        ],\n        \"semantic_type\": \"\",\n        \"description\": \"\"\n      }\n    },\n    {\n      \"column\": \"loss\",\n      \"properties\": {\n        \"dtype\": \"number\",\n        \"std\": 0.16398361202459114,\n        \"min\": 0.06614560633897781,\n        \"max\": 0.7939540147781372,\n        \"num_unique_values\": 20,\n        \"samples\": [\n          0.7939540147781372,\n          0.07316132634878159,\n          0.0812850221991539\n        ],\n        \"semantic_type\": \"\",\n        \"description\": \"\"\n      }\n    },\n    {\n      \"column\": \"val_accuracy\",\n      \"properties\": {\n        \"dtype\": \"number\",\n        \"std\": 0.021188889524585516,\n        \"min\": 0.8917499780654907,\n        \"max\": 0.968583345413208,\n        \"num_unique_values\": 20,\n        \"samples\": [\n          0.8917499780654907,\n          0.9681666493415833,\n          0.9664166569709778\n        ],\n        \"semantic_type\": \"\",\n        \"description\": \"\"\n      }\n    },\n    {\n      \"column\": \"val_loss\",\n      \"properties\": {\n        \"dtype\": \"number\",\n        \"std\": 0.07346302060623287,\n        \"min\": 0.1011037677526474,\n        \"max\": 0.36156153678894043,\n        \"num_unique_values\": 20,\n        \"samples\": [\n          0.36156153678894043,\n          0.10170010477304459,\n          0.1075376346707344\n        ],\n        \"semantic_type\": \"\",\n        \"description\": \"\"\n      }\n    }\n  ]\n}"
            }
          },
          "metadata": {},
          "execution_count": 79
        }
      ],
      "source": [
        "metrics # shows the contents of the metrics df, showing the recorded performance metrics of CNN model (during training)"
      ]
    },
    {
      "cell_type": "code",
      "execution_count": null,
      "metadata": {
        "colab": {
          "base_uri": "https://localhost:8080/",
          "height": 454
        },
        "id": "X2CHUcmXRbvB",
        "outputId": "fa2dc217-5b29-445c-ba88-5fc8e128013e"
      },
      "outputs": [
        {
          "output_type": "display_data",
          "data": {
            "text/plain": [
              "<Figure size 640x480 with 1 Axes>"
            ],
            "image/png": "[encoded data removed]"
          },
          "metadata": {}
        }
      ],
      "source": [
        "# loss - i.e. training loss - how well the model is learning on the training data\n",
        "metrics[['loss', 'val_loss']].plot() # plot() - function provided by Pandas; automatically puts selected columns on the y-axis and the training epochs on the x-axis\n",
        "plt.title('Training Loss Vs Validation Loss', fontsize=16)\n",
        "plt.show()"
      ]
    },
    {
      "cell_type": "markdown",
      "source": [
        "**Analysis of the resulting plot: Training Loss Vs Validation Loss**\n",
        "\n",
        "\n",
        "\n",
        "*   Both losses generally decreasing over the epochs (i.e. model is learning and improving its predictions)\n",
        "*   Both lines are or appear to be converging to a lower value in the later epochs (i.e. model is approaching its optimal performance)\n",
        "\n",
        "\n",
        "*   Small gap between the two losses (i.e. model is generalizing well to unseen/validation data / is not overfitting to the training data)\n"
      ],
      "metadata": {
        "id": "0EISy2KapxO7"
      }
    },
    {
      "cell_type": "code",
      "execution_count": null,
      "metadata": {
        "colab": {
          "base_uri": "https://localhost:8080/",
          "height": 454
        },
        "id": "TjH70Cf8RbvB",
        "outputId": "09ca147b-1632-43c1-a495-423f758822ef"
      },
      "outputs": [
        {
          "output_type": "display_data",
          "data": {
            "text/plain": [
              "<Figure size 640x480 with 1 Axes>"
            ],
            "image/png": "[encoded data removed]"
          },
          "metadata": {}
        }
      ],
      "source": [
        "metrics[['accuracy', 'val_accuracy']].plot()\n",
        "plt.title('Training Accuracy Vs Validation Accuracy', fontsize=16)\n",
        "plt.show()"
      ]
    },
    {
      "cell_type": "markdown",
      "source": [
        "**Analysis of the resulting plot: Training Loss Vs Validation Loss**\n",
        "\n",
        "\n",
        "\n",
        "*   Both accuracies generally increasing and converging over the epochs with an upward trend (i.e. model is learning patterns in data effectively)\n",
        "*   Both lines reaching high accuracy values (i.e. model is performing well on seen and on unseen data)\n",
        "\n",
        "\n",
        "*   Both lines are in alignment - validation accuracy following training accuracy (i.e. no signs of over or underfitting - no plateau in validation accuracy or an inverse relationship to training accuracy)"
      ],
      "metadata": {
        "id": "u7-AkRxaqwYD"
      }
    },
    {
      "cell_type": "markdown",
      "source": [
        "**Areas for potential improvement:**\n",
        "\n",
        "\n",
        "\n",
        "*   Experimentation with different CNN architectures / variations\n",
        "*   Experimentation with hyperparameter tuning (such as with no. of filters / kernel size / no. of neurons in dense layers) for optimized model performance"
      ],
      "metadata": {
        "id": "pmRnj5wPrxle"
      }
    },
    {
      "cell_type": "markdown",
      "metadata": {
        "id": "kFBXLMuJRbvB"
      },
      "source": [
        "## Validating on Test Data"
      ]
    },
    {
      "cell_type": "code",
      "execution_count": null,
      "metadata": {
        "colab": {
          "base_uri": "https://localhost:8080/"
        },
        "id": "uyZwSLMcRbvB",
        "outputId": "065ca5cb-94e5-4c55-a245-30c061c375e2"
      },
      "outputs": [
        {
          "output_type": "stream",
          "name": "stdout",
          "text": [
            "\u001b[1m313/313\u001b[0m \u001b[32m━━━━━━━━━━━━━━━━━━━━\u001b[0m\u001b[37m\u001b[0m \u001b[1m2s\u001b[0m 7ms/step - accuracy: 0.9644 - loss: 0.1145\n"
          ]
        },
        {
          "output_type": "execute_result",
          "data": {
            "text/plain": [
              "[0.10255538672208786, 0.9679999947547913]"
            ]
          },
          "metadata": {},
          "execution_count": 85
        }
      ],
      "source": [
        "model.evaluate(x_test_expanded,y_cat_test) # .evaluate - built-in Keras method - test data is input; assesses how well the model is doing"
      ]
    },
    {
      "cell_type": "markdown",
      "source": [
        "**Output analysis of results on test data:**\n",
        "\n",
        "313 batches of the test set processed in 2 seconds\n",
        "loss = 0.1145\n",
        "accuracy = 0.9644\n",
        "\n",
        "The loss (categorical cross-entropy) calculated during evaluation is relatively low, and the model correctly classified 96.44% of the handwritten images in the MNIST test set (therefore, accuracy is very good on this dataset)."
      ],
      "metadata": {
        "id": "0WZDPKQYRgSo"
      }
    },
    {
      "cell_type": "markdown",
      "metadata": {
        "id": "OOv6iLutRbvB"
      },
      "source": [
        "## Classification Report and Confusion Matrix"
      ]
    },
    {
      "cell_type": "code",
      "execution_count": null,
      "metadata": {
        "id": "lVUh9nPlRbvB"
      },
      "outputs": [],
      "source": [
        "# \"- classification_report: This function generates a text report showing the main classification metrics like precision, recall, F1-score, and support for each class in a classification problem. It provides a comprehensive evaluation of the model's performance.\n",
        "#  - confusion_matrix: This function creates a confusion matrix, which is a table that summarizes the performance of a classification model by showing the counts of true positive, true negative, false positive, and false negative predictions. It helps visualize where the model is making mistakes.\" (Gemini, 2024)\n",
        "\n",
        "from sklearn.metrics import classification_report, confusion_matrix"
      ]
    },
    {
      "cell_type": "code",
      "execution_count": null,
      "metadata": {
        "colab": {
          "base_uri": "https://localhost:8080/"
        },
        "id": "qbsWVMCpRbvC",
        "outputId": "ca015e5a-aa8b-4db0-e033-6fc8229ebb5b"
      },
      "outputs": [
        {
          "output_type": "stream",
          "name": "stdout",
          "text": [
            "\u001b[1m313/313\u001b[0m \u001b[32m━━━━━━━━━━━━━━━━━━━━\u001b[0m\u001b[37m\u001b[0m \u001b[1m2s\u001b[0m 6ms/step\n"
          ]
        }
      ],
      "source": [
        "#predictions = model.predict_classes(x_test) # predict_classes method no longer supported\n",
        "predictions = np.argmax(model.predict(x_test_expanded), axis=-1)\n",
        "\n",
        "# model.predict(x_test), axis=-1 - predicts the probabilities of each image belonging to each class (of the 10)\n",
        "# np.argmax - for each image, selects the class w/highest probability as the predicted class label >> stored in the predictions var."
      ]
    },
    {
      "cell_type": "code",
      "execution_count": null,
      "metadata": {
        "colab": {
          "base_uri": "https://localhost:8080/"
        },
        "id": "H2envUFgRbvC",
        "outputId": "a8051ef2-9126-4dd6-e9e0-c1ff0bc909ce"
      },
      "outputs": [
        {
          "output_type": "stream",
          "name": "stdout",
          "text": [
            "              precision    recall  f1-score   support\n",
            "\n",
            "           0       0.97      0.99      0.98       980\n",
            "           1       0.98      0.99      0.99      1135\n",
            "           2       0.95      0.97      0.96      1032\n",
            "           3       0.97      0.96      0.96      1010\n",
            "           4       0.97      0.97      0.97       982\n",
            "           5       0.96      0.98      0.97       892\n",
            "           6       0.98      0.97      0.98       958\n",
            "           7       0.99      0.93      0.96      1028\n",
            "           8       0.96      0.95      0.96       974\n",
            "           9       0.94      0.97      0.96      1009\n",
            "\n",
            "    accuracy                           0.97     10000\n",
            "   macro avg       0.97      0.97      0.97     10000\n",
            "weighted avg       0.97      0.97      0.97     10000\n",
            "\n"
          ]
        }
      ],
      "source": [
        "print(classification_report(y_test,predictions))\n",
        "# precision - out of all samples predicted as a specific class - # of correct?\n",
        "# recall - out of all samples that actually belong to a specific class - how many correctly predicted?\n",
        "# f1 score - harmonic mean of precision & recall - balanced measure of performance\n",
        "# support - number of actual samples in each class"
      ]
    },
    {
      "cell_type": "markdown",
      "source": [
        "**Examining this classification report:**\n",
        "\n",
        "97% accuracy\n",
        "\n",
        "Macro and weighted averages for precision, recall, and F1-score are also 97%\n",
        "- consistency across averages suggests model is performing well across all classes (no significant bias towards any specific digit)\n",
        "\n",
        "**Per-class performance:**\n",
        "\n",
        "**Precision** is between 95-97% for most classes, with digit 2 having a slightly lower precision at 95%\n",
        "\n",
        "**Recall** - high 90s for most classes, with digit 7 slightly suffering at 93%\n",
        "\n",
        "**F1-score** - high 90s for most classes, with digits 2, 7, and 9 having lower scores\n",
        "\n",
        "**Support** - relatively balanced"
      ],
      "metadata": {
        "id": "LVyPnBILWe1x"
      }
    },
    {
      "cell_type": "code",
      "execution_count": null,
      "metadata": {
        "colab": {
          "base_uri": "https://localhost:8080/"
        },
        "id": "cqQW30pIRbvC",
        "outputId": "f50e8a8b-5106-4598-aa23-a2df559a3cbe"
      },
      "outputs": [
        {
          "output_type": "execute_result",
          "data": {
            "text/plain": [
              "array([[ 970,    1,    0,    0,    2,    1,    2,    0,    2,    2],\n",
              "       [   0, 1120,    5,    1,    0,    1,    2,    0,    6,    0],\n",
              "       [   6,    0, 1006,    2,    3,    1,    2,    2,    9,    1],\n",
              "       [   1,    0,   13,  969,    1,   12,    0,    3,    6,    5],\n",
              "       [   1,    0,    3,    0,  949,    1,    4,    1,    2,   21],\n",
              "       [   2,    1,    0,    7,    0,  871,    3,    1,    3,    4],\n",
              "       [   7,    3,    1,    0,    4,    9,  929,    1,    4,    0],\n",
              "       [   0,    8,   22,   11,    2,    1,    0,  956,    2,   26],\n",
              "       [   9,    1,    7,    7,    6,    6,    4,    2,  928,    4],\n",
              "       [   1,    5,    0,    2,   10,    7,    1,    1,    0,  982]])"
            ]
          },
          "metadata": {},
          "execution_count": 90
        }
      ],
      "source": [
        "confusion_matrix(y_test,predictions)"
      ]
    },
    {
      "cell_type": "markdown",
      "source": [
        "**Confusion matrix basics**\n",
        "\n",
        "Rows represent true labels; columns represent predicted labels\n",
        "\n",
        "\n",
        "Diagonal elements of the matrix represent correctly classified instances for each digit\n",
        "\n",
        "Off-diagonal elements represent misclassifications\n",
        "\n",
        "**Examining this confusion matrix**\n",
        "\n",
        "\n",
        "\n",
        "*   Large numbers in the diagonal = model is achieving high accuracy in classifying most digits\n",
        "\n",
        "\n",
        "*   Off diagonal numbers = very small = low rate of misclassifications\n",
        "\n",
        "\n",
        "*   Analysis of misclassifications:\n",
        "\n",
        "\n",
        "1.   Digit 4 misclassified as 9 - 21 times (could be due to the way it is written - 2 different ways)\n",
        "2.   Digit 7 misclassified as 9 - 26 times\n",
        "\n",
        "1.   Digit 3 misclassified as 5 - 12 times\n",
        "2.   Digit 9 misclassified as 4 - 10 times (goes back to 1st misclassification)\n",
        "\n",
        "\n",
        "\n",
        "\n",
        "\n",
        "\n",
        "\n",
        "\n",
        "\n"
      ],
      "metadata": {
        "id": "t-iGH99gX4By"
      }
    },
    {
      "cell_type": "markdown",
      "metadata": {
        "id": "631Rp_rPRbvC"
      },
      "source": [
        "# Predicting on single image"
      ]
    },
    {
      "cell_type": "code",
      "execution_count": null,
      "metadata": {
        "colab": {
          "base_uri": "https://localhost:8080/",
          "height": 447
        },
        "id": "F4XUwS8TRbvC",
        "outputId": "6fb8e61c-db1a-4528-84ac-043989ea1e00"
      },
      "outputs": [
        {
          "output_type": "execute_result",
          "data": {
            "text/plain": [
              "<matplotlib.image.AxesImage at 0x7af6786fb700>"
            ]
          },
          "metadata": {},
          "execution_count": 91
        },
        {
          "output_type": "display_data",
          "data": {
            "text/plain": [
              "<Figure size 640x480 with 1 Axes>"
            ],
            "image/png": "[encoded data removed]"
          },
          "metadata": {}
        }
      ],
      "source": [
        "plt.imshow(x_test_expanded[16]) # imshow - function within matplotlib.pyplot designed to display images"
      ]
    },
    {
      "cell_type": "code",
      "execution_count": null,
      "metadata": {
        "id": "-HdoFHX4RbvC"
      },
      "outputs": [],
      "source": [
        "my_image = x_test_expanded[16]"
      ]
    },
    {
      "cell_type": "code",
      "execution_count": null,
      "metadata": {
        "colab": {
          "base_uri": "https://localhost:8080/"
        },
        "id": "ppSbXp3LRbvC",
        "outputId": "99b6d325-13c2-49b7-a022-20688db928c4"
      },
      "outputs": [
        {
          "output_type": "stream",
          "name": "stdout",
          "text": [
            "\u001b[1m1/1\u001b[0m \u001b[32m━━━━━━━━━━━━━━━━━━━━\u001b[0m\u001b[37m\u001b[0m \u001b[1m0s\u001b[0m 44ms/step\n"
          ]
        },
        {
          "output_type": "execute_result",
          "data": {
            "text/plain": [
              "array([9])"
            ]
          },
          "metadata": {},
          "execution_count": 93
        }
      ],
      "source": [
        "# SHAPE --> (num_images,width,height,color_channels)\n",
        "\n",
        "np.argmax(model.predict(my_image.reshape(1,28,28,1)), axis=-1) # takes the reshaped image data as input and predicts the class label for image"
      ]
    },
    {
      "cell_type": "code",
      "execution_count": null,
      "metadata": {
        "colab": {
          "base_uri": "https://localhost:8080/"
        },
        "id": "vzzEjGs5RbvC",
        "outputId": "0fcfefb1-aae9-4f6d-8ddd-5962689cd4b2"
      },
      "outputs": [
        {
          "output_type": "execute_result",
          "data": {
            "text/plain": [
              "9"
            ]
          },
          "metadata": {},
          "execution_count": 95
        }
      ],
      "source": [
        "y_test[16]"
      ]
    }
  ],
  "metadata": {
    "kernelspec": {
      "display_name": "Python 3",
      "language": "python",
      "name": "python3"
    },
    "language_info": {
      "codemirror_mode": {
        "name": "ipython",
        "version": 3
      },
      "file_extension": ".py",
      "mimetype": "text/x-python",
      "name": "python",
      "nbconvert_exporter": "python",
      "pygments_lexer": "ipython3",
      "version": "3.10.2"
    },
    "colab": {
      "provenance": [],
      "include_colab_link": true
    }
  },
  "nbformat": 4,
  "nbformat_minor": 0
}