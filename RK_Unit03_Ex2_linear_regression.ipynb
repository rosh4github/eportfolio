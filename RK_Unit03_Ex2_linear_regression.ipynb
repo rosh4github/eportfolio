{
  "nbformat": 4,
  "nbformat_minor": 0,
  "metadata": {
    "colab": {
      "provenance": [],
      "authorship_tag": "ABX9TyM7f3scn2CD14q5psqmT4vC",
      "include_colab_link": true
    },
    "kernelspec": {
      "name": "python3",
      "display_name": "Python 3"
    },
    "language_info": {
      "name": "python"
    }
  },
  "cells": [
    {
      "cell_type": "markdown",
      "metadata": {
        "id": "view-in-github",
        "colab_type": "text"
      },
      "source": [
        "<a href=\"https://colab.research.google.com/github/rosh4github/eportfolio/blob/main/RK_Unit03_Ex2_linear_regression.ipynb\" target=\"_parent\"><img src=\"https://colab.research.google.com/assets/colab-badge.svg\" alt=\"Open In Colab\"/></a>"
      ]
    },
    {
      "cell_type": "markdown",
      "source": [
        "Source: Unit 3 - Machine Learning module - University of Essex Online (2024)"
      ],
      "metadata": {
        "id": "D9Y7VN99cEe7"
      }
    },
    {
      "cell_type": "code",
      "execution_count": null,
      "metadata": {
        "id": "R11o3N9XmTwc"
      },
      "outputs": [],
      "source": [
        "# matplotlib - for creating plots\n",
        "# from matplotlib import pyplot as plt\n",
        "import matplotlib.pyplot as plt\n",
        "\n",
        "# scipy.stats - for calculating Pearson's correlation coefficient\n",
        "#from scipy.stats import pearsonr\n",
        "from scipy import stats"
      ]
    },
    {
      "cell_type": "markdown",
      "source": [
        "Create the arrays that represent the values of the x and y axis"
      ],
      "metadata": {
        "id": "1GGX5SuzsbZD"
      }
    },
    {
      "cell_type": "code",
      "source": [
        "x = [5,7,8,7,2,17,2,9,4,11,12,9,6]\n",
        "y = [99,86,87,88,111,86,103,87,94,78,77,85,86]"
      ],
      "metadata": {
        "id": "e7HL2lGvsgnH"
      },
      "execution_count": null,
      "outputs": []
    },
    {
      "cell_type": "markdown",
      "source": [
        "Execute a method that returns some important key values of Linear Regression"
      ],
      "metadata": {
        "id": "w4P3780PsqmM"
      }
    },
    {
      "cell_type": "code",
      "source": [
        "# code below = performing linear regression analysis on the data stored in the x and y arrays\n",
        "# linear reg. = statistical method to find best-fitting straight line through a set of data points\n",
        "## equation of line along w/statistics that describe how well the line fits the data\n",
        "\n",
        "# stat.linregress(x,y) = linregress function is called from the stats module. x = independent variable data; y = dependent\n",
        "\n",
        "# slope, intercept, r, p, std_err - value assigning:\n",
        "## Slope: how much y changes for a unit change in x;\n",
        "## intercept: the value of y when x is 0;\n",
        "## r: correlation coefficient (a measure of strength and direction of the linear relationship b/w x and y);\n",
        "## p-value: measure of the statistical significance of the regression\n",
        "## std_err: standard error of the estimate / measure of variability of the data around the regression line\n",
        "slope, intercept, r, p, std_err = stats.linregress(x,y)"
      ],
      "metadata": {
        "id": "To6BaUK2stO1"
      },
      "execution_count": null,
      "outputs": []
    },
    {
      "cell_type": "markdown",
      "source": [
        "Measure the correlation"
      ],
      "metadata": {
        "id": "upCSJxZbsyrg"
      }
    },
    {
      "cell_type": "code",
      "source": [
        "# measures the linear correlation b/w data1 & data2 (results in a value b/w -1: strong negative correlation and 1:strong positive correlation. 0 = no correlation)\n",
        "# _ = used to ignore the second returned value (p-value herein)\n",
        "corr, _ = stats.pearsonr(x,y)\n",
        "print('Pearsons correlation: %.3f' % corr)"
      ],
      "metadata": {
        "colab": {
          "base_uri": "https://localhost:8080/"
        },
        "id": "yPThILDQs1Jm",
        "outputId": "106bcd5c-f561-4e40-a021-38a60ec2dd7f"
      },
      "execution_count": null,
      "outputs": [
        {
          "output_type": "stream",
          "name": "stdout",
          "text": [
            "Pearsons correlation: -0.759\n"
          ]
        }
      ]
    },
    {
      "cell_type": "markdown",
      "source": [
        "Create a function that uses the slope and intercept values to return a new value. This new value represents where on the y-axis the corresponding x value will be placed."
      ],
      "metadata": {
        "id": "dFKkJkqws5rK"
      }
    },
    {
      "cell_type": "code",
      "source": [
        "# function that applies the linear regr. model to calculate the predicted y-value for a given x-value\n",
        "def myfunc(x):\n",
        "  return slope * x + intercept"
      ],
      "metadata": {
        "id": "LhohmPiEs6sZ"
      },
      "execution_count": null,
      "outputs": []
    },
    {
      "cell_type": "markdown",
      "source": [
        "Run each value of the x array through the function. This will result in a new array with new values for the y-axis."
      ],
      "metadata": {
        "id": "JriPBs8sgFp7"
      }
    },
    {
      "cell_type": "code",
      "source": [
        "# creates a new list called mymodel that will store predicted y-values based on the linear regression model\n",
        "# uses map() function - which takes two arguments: 1. previously defined myfunc; 2. an iterable (like list x)\n",
        "# applies myfunc to each element in the iterable (x) & creates a new sequence\n",
        "# x is as defined before\n",
        "\n",
        "# map() function returns a map object / an iterator, which is not directly usable as a list.\n",
        "# list() convers the map object into a list and makes it usable\n",
        "\n",
        "# list of predicted y-values then assigned to mymodel\n",
        "mymodel = list(map(myfunc, x))"
      ],
      "metadata": {
        "id": "XbRsYRzVs_5Y"
      },
      "execution_count": null,
      "outputs": []
    },
    {
      "cell_type": "markdown",
      "source": [
        "Draw the original scatter plot and the line of linear regression"
      ],
      "metadata": {
        "id": "G5TW6rsqgWoz"
      }
    },
    {
      "cell_type": "code",
      "source": [
        "plt.scatter(x,y)\n",
        "\n",
        "# adds the linear regr. line to the plot\n",
        "# plt.plot = function used to draw lines or curves\n",
        "plt.plot(x, mymodel)\n",
        "plt.show()"
      ],
      "metadata": {
        "colab": {
          "base_uri": "https://localhost:8080/",
          "height": 430
        },
        "id": "XwMC-rN_gaHg",
        "outputId": "790479cc-a28d-45cf-b51d-f57b6397ef75"
      },
      "execution_count": null,
      "outputs": [
        {
          "output_type": "display_data",
          "data": {
            "text/plain": [
              "<Figure size 640x480 with 1 Axes>"
            ],
            "image/png": "[encoded data removed]"
          },
          "metadata": {}
        }
      ]
    },
    {
      "cell_type": "markdown",
      "source": [
        "Predict future values"
      ],
      "metadata": {
        "id": "3BqHMgk1XCtM"
      }
    },
    {
      "cell_type": "code",
      "source": [
        "#'''\n",
        "\n",
        "from scipy import stats\n",
        "\n",
        "x = [5,7,8,7,2,17,2,9,4,11,12,9,6]\n",
        "y = [99,86,87,88,111,86,103,87,94,78,77,85,86]\n",
        "\n",
        "slope, intercept, r, p, std_err = stats.linregress(x,y)\n",
        "\n",
        "def myfunc(x):\n",
        "  return slope * x + intercept\n",
        "\n",
        "speed = myfunc(10)\n",
        "\n",
        "print(speed)\n",
        "\n",
        "# if x = 10, then predicted y is 85.59308314937454\n",
        "\n",
        "#'''"
      ],
      "metadata": {
        "colab": {
          "base_uri": "https://localhost:8080/"
        },
        "id": "CLlZHmfcXCRT",
        "outputId": "ad49caa9-ca99-4bf4-b6fc-ba0e89ca4cb4"
      },
      "execution_count": null,
      "outputs": [
        {
          "output_type": "stream",
          "name": "stdout",
          "text": [
            "89.02517702596381\n"
          ]
        }
      ]
    },
    {
      "cell_type": "markdown",
      "source": [
        "###What if we change the variables?"
      ],
      "metadata": {
        "id": "D5fmopFrYCo5"
      }
    },
    {
      "cell_type": "code",
      "source": [
        "#'''\n",
        "import matplotlib.pyplot as plt\n",
        "from scipy import stats\n",
        "\n",
        "x = [5,7,8,7,2,17,2,20]\n",
        "y = [99,86,87,35,111,86,103,87]\n",
        "\n",
        "slope, intercept, r, p, std_err = stats.linregress(x,y)\n",
        "\n",
        "corr, _ = stats.pearsonr(x,y)\n",
        "print('Pearsons correlation: %.3f' % corr)\n",
        "\n",
        "def myfunc(x):\n",
        "  return slope * x + intercept\n",
        "\n",
        "mymodel = list(map(myfunc, x))\n",
        "\n",
        "plt.scatter(x,y)\n",
        "plt.plot(x, mymodel)\n",
        "plt.show()\n",
        "\n",
        "# Result:\n",
        "\n",
        "#'''"
      ],
      "metadata": {
        "colab": {
          "base_uri": "https://localhost:8080/",
          "height": 447
        },
        "id": "czNlQGrjYJkd",
        "outputId": "05bc5ddd-f432-42ae-9821-50bd716945c1"
      },
      "execution_count": null,
      "outputs": [
        {
          "output_type": "stream",
          "name": "stdout",
          "text": [
            "Pearsons correlation: -0.218\n"
          ]
        },
        {
          "output_type": "display_data",
          "data": {
            "text/plain": [
              "<Figure size 640x480 with 1 Axes>"
            ],
            "image/png": "[encoded data removed]"
          },
          "metadata": {}
        }
      ]
    }
  ]
}