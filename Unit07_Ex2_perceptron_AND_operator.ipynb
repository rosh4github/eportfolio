{
  "cells": [
    {
      "cell_type": "markdown",
      "metadata": {
        "id": "view-in-github",
        "colab_type": "text"
      },
      "source": [
        "<a href=\"https://colab.research.google.com/github/rosh4github/eportfolio/blob/main/Unit07_Ex2_perceptron_AND_operator.ipynb\" target=\"_parent\"><img src=\"https://colab.research.google.com/assets/colab-badge.svg\" alt=\"Open In Colab\"/></a>"
      ]
    },
    {
      "cell_type": "markdown",
      "source": [
        "Source:\n",
        "\n",
        "Unit 7 - Machine Learning module - University of Essex Online (2024)\n",
        "\n",
        "Gemini (2024) Gemini response to Roshni Kasturi. 2 November."
      ],
      "metadata": {
        "id": "Bvo-XOstYVzT"
      }
    },
    {
      "cell_type": "markdown",
      "metadata": {
        "id": "iAzwFELkrCh1"
      },
      "source": [
        "### Author: Dr Mike Lakoju, CardiffMet"
      ]
    },
    {
      "cell_type": "markdown",
      "metadata": {
        "id": "5loH0PKvrCh4"
      },
      "source": [
        "![Screenshot%202021-01-24%20at%202.53.10%20pm.png](attachment:Screenshot%202021-01-24%20at%202.53.10%20pm.png)"
      ]
    },
    {
      "cell_type": "markdown",
      "metadata": {
        "id": "zSdngJp_rCh4"
      },
      "source": [
        "### Import Library"
      ]
    },
    {
      "cell_type": "code",
      "execution_count": null,
      "metadata": {
        "id": "EGLZ6LD-rCh4"
      },
      "outputs": [],
      "source": [
        "import numpy as np"
      ]
    },
    {
      "cell_type": "markdown",
      "metadata": {
        "id": "maXl7jTRrCh5"
      },
      "source": [
        "### Define \"Inputs, outputs and weights\" as Numpy arrays"
      ]
    },
    {
      "cell_type": "markdown",
      "metadata": {
        "id": "-XPoAUjJrCh5"
      },
      "source": [
        "#### Inputs"
      ]
    },
    {
      "cell_type": "code",
      "execution_count": null,
      "metadata": {
        "id": "0S-kTd71rCh6"
      },
      "outputs": [],
      "source": [
        "# Creating input values as a matrix not as a vector\n",
        "inputs = np.array([[0,0], [0,1], [1,0], [1,1]])"
      ]
    },
    {
      "cell_type": "code",
      "execution_count": null,
      "metadata": {
        "colab": {
          "base_uri": "https://localhost:8080/"
        },
        "id": "kAaj-X09rCh6",
        "outputId": "7a344209-c96f-4dad-c4ef-aa6100b95371"
      },
      "outputs": [
        {
          "output_type": "execute_result",
          "data": {
            "text/plain": [
              "(4, 2)"
            ]
          },
          "metadata": {},
          "execution_count": 5
        }
      ],
      "source": [
        "# Chcking the shape of the inputs\n",
        "\n",
        "inputs.shape"
      ]
    },
    {
      "cell_type": "code",
      "source": [
        "inputs"
      ],
      "metadata": {
        "colab": {
          "base_uri": "https://localhost:8080/"
        },
        "id": "falwcfeXbO8Q",
        "outputId": "33c8936c-f1b2-4ce3-bf34-6b9d7392bfd1"
      },
      "execution_count": null,
      "outputs": [
        {
          "output_type": "execute_result",
          "data": {
            "text/plain": [
              "array([[0, 0],\n",
              "       [0, 1],\n",
              "       [1, 0],\n",
              "       [1, 1]])"
            ]
          },
          "metadata": {},
          "execution_count": 4
        }
      ]
    },
    {
      "cell_type": "markdown",
      "metadata": {
        "id": "0nKwRVxCrCh7"
      },
      "source": [
        "#### Outputs"
      ]
    },
    {
      "cell_type": "code",
      "execution_count": null,
      "metadata": {
        "id": "7pmpzjuJrCh7"
      },
      "outputs": [],
      "source": [
        "outputs = np.array([0, 0, 0, 1])"
      ]
    },
    {
      "cell_type": "code",
      "execution_count": null,
      "metadata": {
        "colab": {
          "base_uri": "https://localhost:8080/"
        },
        "id": "chTh_dOErCh7",
        "outputId": "d000e807-87d9-439b-d19b-3afe67cd73f8"
      },
      "outputs": [
        {
          "output_type": "execute_result",
          "data": {
            "text/plain": [
              "(4,)"
            ]
          },
          "metadata": {},
          "execution_count": 12
        }
      ],
      "source": [
        "# Checking the shape of the outputs\n",
        "\n",
        "outputs.shape\n",
        "\n",
        "# output - (4,) # signifies a 1 dimensional array with 4 elements # it is a tuple representing the shape of the array"
      ]
    },
    {
      "cell_type": "code",
      "source": [
        "outputs"
      ],
      "metadata": {
        "colab": {
          "base_uri": "https://localhost:8080/"
        },
        "id": "5y0tmfBbbWoq",
        "outputId": "fe65d7cf-cb86-42ac-d2e4-461c75ef26ba"
      },
      "execution_count": null,
      "outputs": [
        {
          "output_type": "execute_result",
          "data": {
            "text/plain": [
              "array([0, 0, 0, 1])"
            ]
          },
          "metadata": {},
          "execution_count": 13
        }
      ]
    },
    {
      "cell_type": "markdown",
      "metadata": {
        "id": "mupLc0EprCh7"
      },
      "source": [
        "#### Weights"
      ]
    },
    {
      "cell_type": "code",
      "execution_count": null,
      "metadata": {
        "id": "G1SamxeDrCh8"
      },
      "outputs": [],
      "source": [
        "# one weight for x1 and one for x2\n",
        "weights = np.array([0.0, 0.0])"
      ]
    },
    {
      "cell_type": "markdown",
      "metadata": {
        "id": "P4zp3_wMrCh8"
      },
      "source": [
        "#### Learning Rate"
      ]
    },
    {
      "cell_type": "code",
      "execution_count": null,
      "metadata": {
        "id": "waLPrOYyrCh8"
      },
      "outputs": [],
      "source": [
        "learning_rate = 0.1"
      ]
    },
    {
      "cell_type": "markdown",
      "metadata": {
        "id": "tpCZudhrrCh8"
      },
      "source": [
        "## Step function"
      ]
    },
    {
      "cell_type": "code",
      "execution_count": null,
      "metadata": {
        "id": "cRjiIIjirCh8"
      },
      "outputs": [],
      "source": [
        "# This is our Activation function\n",
        "\n",
        "def step_function(sum):\n",
        "  if (sum >= 1):\n",
        "    #print(f'The Sum of Weights is Greater or equal to 1')\n",
        "    return 1\n",
        "  else:\n",
        "        #print(f'The Sum of Weights is NOT > or = to 1')\n",
        "        return 0"
      ]
    },
    {
      "cell_type": "markdown",
      "metadata": {
        "id": "V1V4dksLrCh9"
      },
      "source": [
        "## Process Output"
      ]
    },
    {
      "cell_type": "markdown",
      "metadata": {
        "id": "RWfhelj7rCh9"
      },
      "source": [
        "<b>We define a function that allows us to calculate/ process the output. The function accepts an instance of our data, then calculate the sum function using Numpy. Finally, we check the output by passing it through the \"Step Function.\"</b>"
      ]
    },
    {
      "cell_type": "code",
      "execution_count": null,
      "metadata": {
        "id": "Xwv7wOqlrCh9"
      },
      "outputs": [],
      "source": [
        "def cal_output(instance):\n",
        "  sum_func = instance.dot(weights)\n",
        "  return step_function(sum_func)"
      ]
    },
    {
      "cell_type": "markdown",
      "metadata": {
        "id": "IDaF8iTkrCh9"
      },
      "source": [
        "We pass it as alist in a numpy array ..."
      ]
    },
    {
      "cell_type": "code",
      "execution_count": null,
      "metadata": {
        "colab": {
          "base_uri": "https://localhost:8080/"
        },
        "id": "dephEOAhrCh9",
        "outputId": "33ffc57c-5fa2-4a3b-d802-c16e6755d954"
      },
      "outputs": [
        {
          "output_type": "execute_result",
          "data": {
            "text/plain": [
              "0"
            ]
          },
          "metadata": {},
          "execution_count": 22
        }
      ],
      "source": [
        "# cal_output function designed to simulate a single neuron's calculation and activation\n",
        "cal_output(np.array([[1,1]])) # [[1,1]] - input data - 2 dimensional array (matrix) with a single row containing values x=1 and x2=1"
      ]
    },
    {
      "cell_type": "markdown",
      "metadata": {
        "id": "NRP8e2BUrCh9"
      },
      "source": [
        "## Train"
      ]
    },
    {
      "cell_type": "code",
      "execution_count": null,
      "metadata": {
        "colab": {
          "base_uri": "https://localhost:8080/"
        },
        "id": "BkDaKEcErCh9",
        "outputId": "cc1416fd-f2b7-4416-9b8d-0eebfd3828e2"
      },
      "outputs": [
        {
          "output_type": "execute_result",
          "data": {
            "text/plain": [
              "4"
            ]
          },
          "metadata": {},
          "execution_count": 23
        }
      ],
      "source": [
        "# Check the number of outputs\n",
        "\n",
        "len(outputs)"
      ]
    },
    {
      "cell_type": "code",
      "execution_count": null,
      "metadata": {
        "colab": {
          "base_uri": "https://localhost:8080/"
        },
        "id": "W2h7JlErrCh-",
        "outputId": "8a2451e5-6d43-444f-82c5-f956bc4114c2"
      },
      "outputs": [
        {
          "output_type": "execute_result",
          "data": {
            "text/plain": [
              "array([1, 1])"
            ]
          },
          "metadata": {},
          "execution_count": 25
        }
      ],
      "source": [
        "# Checking the index of the input at postion 3 ..\n",
        "# this is the last input value\n",
        "inputs[3]"
      ]
    },
    {
      "cell_type": "code",
      "execution_count": null,
      "metadata": {
        "colab": {
          "base_uri": "https://localhost:8080/"
        },
        "id": "S8ahSirYrCh-",
        "outputId": "11b28c77-4259-4348-ced7-99ccfe35d2d4"
      },
      "outputs": [
        {
          "output_type": "execute_result",
          "data": {
            "text/plain": [
              "array([[0, 0],\n",
              "       [0, 1],\n",
              "       [1, 0],\n",
              "       [1, 1]])"
            ]
          },
          "metadata": {},
          "execution_count": 26
        }
      ],
      "source": [
        "inputs"
      ]
    },
    {
      "cell_type": "markdown",
      "metadata": {
        "id": "WZhdw_rhrCh-"
      },
      "source": [
        "<b>Note that:</b> usually, we will need to define the number of epochs, because we will never really get a value of zero when dealing with real-world data. However, for this small data, we will run the loop till we obtain zero error"
      ]
    },
    {
      "cell_type": "code",
      "execution_count": null,
      "metadata": {
        "id": "JIDvbBXLrCh-"
      },
      "outputs": [],
      "source": [
        "def train():\n",
        "    #\n",
        "    total_error_value = 1\n",
        "\n",
        "    # While the total_error_value is not equal to zero. we are asumming that at the start of running our network there will be no zero\n",
        "    while (total_error_value != 0):\n",
        "\n",
        "        #making the total_error 0 so we can do other calculations\n",
        "        total_error_value = 0\n",
        "\n",
        "        #Looping into each row of the dataset (remember indexing in python starts at zero hence 0-3 which are 4 values)\n",
        "        for i in range(len(outputs)):\n",
        "\n",
        "            #Calculating predictions\n",
        "            prediction = cal_output(inputs[i])\n",
        "\n",
        "            print(\"Prediction is \", prediction)\n",
        "\n",
        "            # Calculating the absolute value of the error\n",
        "            error = abs(outputs[i] - prediction)\n",
        "\n",
        "            print(\"Error is \", error)\n",
        "\n",
        "            #Updating the error\n",
        "            total_error_value += error\n",
        "\n",
        "            print(\"Total error value in iteration is \", total_error_value)\n",
        "\n",
        "            if error > 0:\n",
        "                for j in range(len(weights)):\n",
        "\n",
        "                    #updating the weights for x1 and x2\n",
        "                    weights[j] = weights[j] + (learning_rate * inputs[i][j] * error) # [i][j] = row and column values but each representing current loop they are in.\n",
        "                    print('Weight updated to: ' + str(weights[j]))\n",
        "\n",
        "        print('Total error Value: ' + str(total_error_value))"
      ]
    },
    {
      "cell_type": "code",
      "execution_count": null,
      "metadata": {
        "colab": {
          "base_uri": "https://localhost:8080/"
        },
        "id": "LKeeR16prCh-",
        "outputId": "725f3b90-0513-4424-b5d0-c883d3346c6b"
      },
      "outputs": [
        {
          "output_type": "stream",
          "name": "stdout",
          "text": [
            "Prediction is  0\n",
            "Error is  0\n",
            "Total error value in iteration is  0\n",
            "Prediction is  0\n",
            "Error is  0\n",
            "Total error value in iteration is  0\n",
            "Prediction is  0\n",
            "Error is  0\n",
            "Total error value in iteration is  0\n",
            "Prediction is  0\n",
            "Error is  1\n",
            "Total error value in iteration is  1\n",
            "Weight updated to: 0.1\n",
            "Weight updated to: 0.1\n",
            "Total error Value: 1\n",
            "Prediction is  0\n",
            "Error is  0\n",
            "Total error value in iteration is  0\n",
            "Prediction is  0\n",
            "Error is  0\n",
            "Total error value in iteration is  0\n",
            "Prediction is  0\n",
            "Error is  0\n",
            "Total error value in iteration is  0\n",
            "Prediction is  0\n",
            "Error is  1\n",
            "Total error value in iteration is  1\n",
            "Weight updated to: 0.2\n",
            "Weight updated to: 0.2\n",
            "Total error Value: 1\n",
            "Prediction is  0\n",
            "Error is  0\n",
            "Total error value in iteration is  0\n",
            "Prediction is  0\n",
            "Error is  0\n",
            "Total error value in iteration is  0\n",
            "Prediction is  0\n",
            "Error is  0\n",
            "Total error value in iteration is  0\n",
            "Prediction is  0\n",
            "Error is  1\n",
            "Total error value in iteration is  1\n",
            "Weight updated to: 0.30000000000000004\n",
            "Weight updated to: 0.30000000000000004\n",
            "Total error Value: 1\n",
            "Prediction is  0\n",
            "Error is  0\n",
            "Total error value in iteration is  0\n",
            "Prediction is  0\n",
            "Error is  0\n",
            "Total error value in iteration is  0\n",
            "Prediction is  0\n",
            "Error is  0\n",
            "Total error value in iteration is  0\n",
            "Prediction is  0\n",
            "Error is  1\n",
            "Total error value in iteration is  1\n",
            "Weight updated to: 0.4\n",
            "Weight updated to: 0.4\n",
            "Total error Value: 1\n",
            "Prediction is  0\n",
            "Error is  0\n",
            "Total error value in iteration is  0\n",
            "Prediction is  0\n",
            "Error is  0\n",
            "Total error value in iteration is  0\n",
            "Prediction is  0\n",
            "Error is  0\n",
            "Total error value in iteration is  0\n",
            "Prediction is  0\n",
            "Error is  1\n",
            "Total error value in iteration is  1\n",
            "Weight updated to: 0.5\n",
            "Weight updated to: 0.5\n",
            "Total error Value: 1\n",
            "Prediction is  0\n",
            "Error is  0\n",
            "Total error value in iteration is  0\n",
            "Prediction is  0\n",
            "Error is  0\n",
            "Total error value in iteration is  0\n",
            "Prediction is  0\n",
            "Error is  0\n",
            "Total error value in iteration is  0\n",
            "Prediction is  1\n",
            "Error is  0\n",
            "Total error value in iteration is  0\n",
            "Total error Value: 0\n"
          ]
        }
      ],
      "source": [
        "train()"
      ]
    },
    {
      "cell_type": "markdown",
      "metadata": {
        "id": "Vv8Y1XQorCh_"
      },
      "source": [
        "## Classification"
      ]
    },
    {
      "cell_type": "code",
      "execution_count": null,
      "metadata": {
        "colab": {
          "base_uri": "https://localhost:8080/"
        },
        "id": "zyUe7DXWrCh_",
        "outputId": "81a4c350-b727-45f2-92a4-dc98f7c9ae97"
      },
      "outputs": [
        {
          "output_type": "execute_result",
          "data": {
            "text/plain": [
              "array([0.5, 0.5])"
            ]
          },
          "metadata": {},
          "execution_count": 29
        }
      ],
      "source": [
        "# Now we have the final weights that will be used to classify new instances of the data after training.\n",
        "\n",
        "weights"
      ]
    },
    {
      "cell_type": "code",
      "execution_count": null,
      "metadata": {
        "colab": {
          "base_uri": "https://localhost:8080/"
        },
        "id": "x3-t4WLBrCh_",
        "outputId": "6b0642be-d2e9-4fb0-b388-49aeea278add"
      },
      "outputs": [
        {
          "output_type": "execute_result",
          "data": {
            "text/plain": [
              "1"
            ]
          },
          "metadata": {},
          "execution_count": 30
        }
      ],
      "source": [
        "cal_output(np.array([2,5]))"
      ]
    },
    {
      "cell_type": "code",
      "execution_count": null,
      "metadata": {
        "colab": {
          "base_uri": "https://localhost:8080/"
        },
        "id": "fYN6eOt3rCh_",
        "outputId": "11c790c2-bc67-4562-aa6b-a73d880809c1"
      },
      "outputs": [
        {
          "output_type": "execute_result",
          "data": {
            "text/plain": [
              "1"
            ]
          },
          "metadata": {},
          "execution_count": 31
        }
      ],
      "source": [
        "cal_output(np.array([5,2]))"
      ]
    },
    {
      "cell_type": "code",
      "execution_count": null,
      "metadata": {
        "colab": {
          "base_uri": "https://localhost:8080/"
        },
        "id": "EG0q8h4JrCh_",
        "outputId": "7aa0a1f6-8eb7-4e9d-c73b-6533f5d83533"
      },
      "outputs": [
        {
          "output_type": "execute_result",
          "data": {
            "text/plain": [
              "0"
            ]
          },
          "metadata": {},
          "execution_count": 32
        }
      ],
      "source": [
        "cal_output(np.array([0.3,0.2]))"
      ]
    },
    {
      "cell_type": "code",
      "execution_count": null,
      "metadata": {
        "colab": {
          "base_uri": "https://localhost:8080/"
        },
        "id": "tAkLVKKYrCiA",
        "outputId": "7ec63333-b593-4105-9e80-cf4e204c3bcd"
      },
      "outputs": [
        {
          "output_type": "execute_result",
          "data": {
            "text/plain": [
              "1"
            ]
          },
          "metadata": {},
          "execution_count": 33
        }
      ],
      "source": [
        "cal_output(np.array([1,1]))"
      ]
    }
  ],
  "metadata": {
    "kernelspec": {
      "display_name": "Python 3",
      "language": "python",
      "name": "python3"
    },
    "language_info": {
      "codemirror_mode": {
        "name": "ipython",
        "version": 3
      },
      "file_extension": ".py",
      "mimetype": "text/x-python",
      "name": "python",
      "nbconvert_exporter": "python",
      "pygments_lexer": "ipython3",
      "version": "3.7.6"
    },
    "colab": {
      "provenance": [],
      "include_colab_link": true
    }
  },
  "nbformat": 4,
  "nbformat_minor": 0
}